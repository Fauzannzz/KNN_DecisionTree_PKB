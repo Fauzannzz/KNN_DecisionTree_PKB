{
  "cells": [
    {
      "cell_type": "markdown",
      "metadata": {
        "id": "Xs8d2kq68JZy"
      },
      "source": [
        "<h1 align=\"center\">Klasifikasi Data Arrhythmia</h1>"
      ]
    },
    {
      "cell_type": "markdown",
      "metadata": {
        "id": "H_THNkfZ1JbE"
      },
      "source": [
        "**Anggota Kelompok:**\n",
        "\n",
        "*   Fauzan Naufal Rizqi\n",
        "*   Muhammad Dafa Sirajudin\n",
        "*   Defryan Aprisandani\n",
        "\n"
      ]
    },
    {
      "cell_type": "markdown",
      "metadata": {
        "id": "zE10sTd_1JbG"
      },
      "source": [
        "# **Import** **Libraries**"
      ]
    },
    {
      "cell_type": "code",
      "execution_count": null,
      "metadata": {
        "id": "EcD33ZuZ1JbH"
      },
      "outputs": [],
      "source": [
        "import pandas as pd\n",
        "import numpy as np\n",
        "import scipy as sp\n",
        "import math as mt\n",
        "import seaborn as sns\n",
        "import matplotlib.pyplot as plt\n",
        "#to avoid writing plot.show\n",
        "%matplotlib inline\n",
        "from sklearn.impute import SimpleImputer\n",
        "from sklearn.metrics import r2_score,mean_squared_error,accuracy_score,recall_score,precision_score,confusion_matrix,classification_report"
      ]
    },
    {
      "cell_type": "markdown",
      "metadata": {
        "id": "abXtJnLE1JbO"
      },
      "source": [
        "# **READ DATA**"
      ]
    },
    {
      "cell_type": "code",
      "execution_count": null,
      "metadata": {
        "id": "4sHaerCj1JbP"
      },
      "outputs": [],
      "source": [
        "df=pd.read_csv(\"arrhythmia.csv\",header=None)"
      ]
    },
    {
      "cell_type": "code",
      "execution_count": null,
      "metadata": {
        "colab": {
          "base_uri": "https://localhost:8080/",
          "height": 235
        },
        "id": "wdOvvFNN1JbS",
        "outputId": "10dc4bcf-78b5-40c0-b42c-30bc855a6ac0"
      },
      "outputs": [
        {
          "output_type": "execute_result",
          "data": {
            "text/plain": [
              "   0    1    2    3    4    5    6    7    8    9    ...  270   271  272  273  \\\n",
              "0   75    0  190   80   91  193  371  174  121  -16  ...  0.0   9.0 -0.9  0.0   \n",
              "1   56    1  165   64   81  174  401  149   39   25  ...  0.0   8.5  0.0  0.0   \n",
              "2   54    0  172   95  138  163  386  185  102   96  ...  0.0   9.5 -2.4  0.0   \n",
              "3   55    0  175   94  100  202  380  179  143   28  ...  0.0  12.2 -2.2  0.0   \n",
              "4   75    0  190   80   88  181  360  177  103  -16  ...  0.0  13.1 -3.6  0.0   \n",
              "\n",
              "   274  275  276   277   278  279  \n",
              "0  0.0  0.9  2.9  23.3  49.4    8  \n",
              "1  0.0  0.2  2.1  20.4  38.8    6  \n",
              "2  0.0  0.3  3.4  12.3  49.0   10  \n",
              "3  0.0  0.4  2.6  34.6  61.6    1  \n",
              "4  0.0 -0.1  3.9  25.4  62.8    7  \n",
              "\n",
              "[5 rows x 280 columns]"
            ],
            "text/html": [
              "\n",
              "  <div id=\"df-65dbc600-94df-4871-ac56-0ebb9ba48631\">\n",
              "    <div class=\"colab-df-container\">\n",
              "      <div>\n",
              "<style scoped>\n",
              "    .dataframe tbody tr th:only-of-type {\n",
              "        vertical-align: middle;\n",
              "    }\n",
              "\n",
              "    .dataframe tbody tr th {\n",
              "        vertical-align: top;\n",
              "    }\n",
              "\n",
              "    .dataframe thead th {\n",
              "        text-align: right;\n",
              "    }\n",
              "</style>\n",
              "<table border=\"1\" class=\"dataframe\">\n",
              "  <thead>\n",
              "    <tr style=\"text-align: right;\">\n",
              "      <th></th>\n",
              "      <th>0</th>\n",
              "      <th>1</th>\n",
              "      <th>2</th>\n",
              "      <th>3</th>\n",
              "      <th>4</th>\n",
              "      <th>5</th>\n",
              "      <th>6</th>\n",
              "      <th>7</th>\n",
              "      <th>8</th>\n",
              "      <th>9</th>\n",
              "      <th>...</th>\n",
              "      <th>270</th>\n",
              "      <th>271</th>\n",
              "      <th>272</th>\n",
              "      <th>273</th>\n",
              "      <th>274</th>\n",
              "      <th>275</th>\n",
              "      <th>276</th>\n",
              "      <th>277</th>\n",
              "      <th>278</th>\n",
              "      <th>279</th>\n",
              "    </tr>\n",
              "  </thead>\n",
              "  <tbody>\n",
              "    <tr>\n",
              "      <th>0</th>\n",
              "      <td>75</td>\n",
              "      <td>0</td>\n",
              "      <td>190</td>\n",
              "      <td>80</td>\n",
              "      <td>91</td>\n",
              "      <td>193</td>\n",
              "      <td>371</td>\n",
              "      <td>174</td>\n",
              "      <td>121</td>\n",
              "      <td>-16</td>\n",
              "      <td>...</td>\n",
              "      <td>0.0</td>\n",
              "      <td>9.0</td>\n",
              "      <td>-0.9</td>\n",
              "      <td>0.0</td>\n",
              "      <td>0.0</td>\n",
              "      <td>0.9</td>\n",
              "      <td>2.9</td>\n",
              "      <td>23.3</td>\n",
              "      <td>49.4</td>\n",
              "      <td>8</td>\n",
              "    </tr>\n",
              "    <tr>\n",
              "      <th>1</th>\n",
              "      <td>56</td>\n",
              "      <td>1</td>\n",
              "      <td>165</td>\n",
              "      <td>64</td>\n",
              "      <td>81</td>\n",
              "      <td>174</td>\n",
              "      <td>401</td>\n",
              "      <td>149</td>\n",
              "      <td>39</td>\n",
              "      <td>25</td>\n",
              "      <td>...</td>\n",
              "      <td>0.0</td>\n",
              "      <td>8.5</td>\n",
              "      <td>0.0</td>\n",
              "      <td>0.0</td>\n",
              "      <td>0.0</td>\n",
              "      <td>0.2</td>\n",
              "      <td>2.1</td>\n",
              "      <td>20.4</td>\n",
              "      <td>38.8</td>\n",
              "      <td>6</td>\n",
              "    </tr>\n",
              "    <tr>\n",
              "      <th>2</th>\n",
              "      <td>54</td>\n",
              "      <td>0</td>\n",
              "      <td>172</td>\n",
              "      <td>95</td>\n",
              "      <td>138</td>\n",
              "      <td>163</td>\n",
              "      <td>386</td>\n",
              "      <td>185</td>\n",
              "      <td>102</td>\n",
              "      <td>96</td>\n",
              "      <td>...</td>\n",
              "      <td>0.0</td>\n",
              "      <td>9.5</td>\n",
              "      <td>-2.4</td>\n",
              "      <td>0.0</td>\n",
              "      <td>0.0</td>\n",
              "      <td>0.3</td>\n",
              "      <td>3.4</td>\n",
              "      <td>12.3</td>\n",
              "      <td>49.0</td>\n",
              "      <td>10</td>\n",
              "    </tr>\n",
              "    <tr>\n",
              "      <th>3</th>\n",
              "      <td>55</td>\n",
              "      <td>0</td>\n",
              "      <td>175</td>\n",
              "      <td>94</td>\n",
              "      <td>100</td>\n",
              "      <td>202</td>\n",
              "      <td>380</td>\n",
              "      <td>179</td>\n",
              "      <td>143</td>\n",
              "      <td>28</td>\n",
              "      <td>...</td>\n",
              "      <td>0.0</td>\n",
              "      <td>12.2</td>\n",
              "      <td>-2.2</td>\n",
              "      <td>0.0</td>\n",
              "      <td>0.0</td>\n",
              "      <td>0.4</td>\n",
              "      <td>2.6</td>\n",
              "      <td>34.6</td>\n",
              "      <td>61.6</td>\n",
              "      <td>1</td>\n",
              "    </tr>\n",
              "    <tr>\n",
              "      <th>4</th>\n",
              "      <td>75</td>\n",
              "      <td>0</td>\n",
              "      <td>190</td>\n",
              "      <td>80</td>\n",
              "      <td>88</td>\n",
              "      <td>181</td>\n",
              "      <td>360</td>\n",
              "      <td>177</td>\n",
              "      <td>103</td>\n",
              "      <td>-16</td>\n",
              "      <td>...</td>\n",
              "      <td>0.0</td>\n",
              "      <td>13.1</td>\n",
              "      <td>-3.6</td>\n",
              "      <td>0.0</td>\n",
              "      <td>0.0</td>\n",
              "      <td>-0.1</td>\n",
              "      <td>3.9</td>\n",
              "      <td>25.4</td>\n",
              "      <td>62.8</td>\n",
              "      <td>7</td>\n",
              "    </tr>\n",
              "  </tbody>\n",
              "</table>\n",
              "<p>5 rows × 280 columns</p>\n",
              "</div>\n",
              "      <button class=\"colab-df-convert\" onclick=\"convertToInteractive('df-65dbc600-94df-4871-ac56-0ebb9ba48631')\"\n",
              "              title=\"Convert this dataframe to an interactive table.\"\n",
              "              style=\"display:none;\">\n",
              "        \n",
              "  <svg xmlns=\"http://www.w3.org/2000/svg\" height=\"24px\"viewBox=\"0 0 24 24\"\n",
              "       width=\"24px\">\n",
              "    <path d=\"M0 0h24v24H0V0z\" fill=\"none\"/>\n",
              "    <path d=\"M18.56 5.44l.94 2.06.94-2.06 2.06-.94-2.06-.94-.94-2.06-.94 2.06-2.06.94zm-11 1L8.5 8.5l.94-2.06 2.06-.94-2.06-.94L8.5 2.5l-.94 2.06-2.06.94zm10 10l.94 2.06.94-2.06 2.06-.94-2.06-.94-.94-2.06-.94 2.06-2.06.94z\"/><path d=\"M17.41 7.96l-1.37-1.37c-.4-.4-.92-.59-1.43-.59-.52 0-1.04.2-1.43.59L10.3 9.45l-7.72 7.72c-.78.78-.78 2.05 0 2.83L4 21.41c.39.39.9.59 1.41.59.51 0 1.02-.2 1.41-.59l7.78-7.78 2.81-2.81c.8-.78.8-2.07 0-2.86zM5.41 20L4 18.59l7.72-7.72 1.47 1.35L5.41 20z\"/>\n",
              "  </svg>\n",
              "      </button>\n",
              "      \n",
              "  <style>\n",
              "    .colab-df-container {\n",
              "      display:flex;\n",
              "      flex-wrap:wrap;\n",
              "      gap: 12px;\n",
              "    }\n",
              "\n",
              "    .colab-df-convert {\n",
              "      background-color: #E8F0FE;\n",
              "      border: none;\n",
              "      border-radius: 50%;\n",
              "      cursor: pointer;\n",
              "      display: none;\n",
              "      fill: #1967D2;\n",
              "      height: 32px;\n",
              "      padding: 0 0 0 0;\n",
              "      width: 32px;\n",
              "    }\n",
              "\n",
              "    .colab-df-convert:hover {\n",
              "      background-color: #E2EBFA;\n",
              "      box-shadow: 0px 1px 2px rgba(60, 64, 67, 0.3), 0px 1px 3px 1px rgba(60, 64, 67, 0.15);\n",
              "      fill: #174EA6;\n",
              "    }\n",
              "\n",
              "    [theme=dark] .colab-df-convert {\n",
              "      background-color: #3B4455;\n",
              "      fill: #D2E3FC;\n",
              "    }\n",
              "\n",
              "    [theme=dark] .colab-df-convert:hover {\n",
              "      background-color: #434B5C;\n",
              "      box-shadow: 0px 1px 3px 1px rgba(0, 0, 0, 0.15);\n",
              "      filter: drop-shadow(0px 1px 2px rgba(0, 0, 0, 0.3));\n",
              "      fill: #FFFFFF;\n",
              "    }\n",
              "  </style>\n",
              "\n",
              "      <script>\n",
              "        const buttonEl =\n",
              "          document.querySelector('#df-65dbc600-94df-4871-ac56-0ebb9ba48631 button.colab-df-convert');\n",
              "        buttonEl.style.display =\n",
              "          google.colab.kernel.accessAllowed ? 'block' : 'none';\n",
              "\n",
              "        async function convertToInteractive(key) {\n",
              "          const element = document.querySelector('#df-65dbc600-94df-4871-ac56-0ebb9ba48631');\n",
              "          const dataTable =\n",
              "            await google.colab.kernel.invokeFunction('convertToInteractive',\n",
              "                                                     [key], {});\n",
              "          if (!dataTable) return;\n",
              "\n",
              "          const docLinkHtml = 'Like what you see? Visit the ' +\n",
              "            '<a target=\"_blank\" href=https://colab.research.google.com/notebooks/data_table.ipynb>data table notebook</a>'\n",
              "            + ' to learn more about interactive tables.';\n",
              "          element.innerHTML = '';\n",
              "          dataTable['output_type'] = 'display_data';\n",
              "          await google.colab.output.renderOutput(dataTable, element);\n",
              "          const docLink = document.createElement('div');\n",
              "          docLink.innerHTML = docLinkHtml;\n",
              "          element.appendChild(docLink);\n",
              "        }\n",
              "      </script>\n",
              "    </div>\n",
              "  </div>\n",
              "  "
            ]
          },
          "metadata": {},
          "execution_count": 6
        }
      ],
      "source": [
        "#Melihat 5 data teratas\n",
        "df.head()"
      ]
    },
    {
      "cell_type": "code",
      "execution_count": null,
      "metadata": {
        "colab": {
          "base_uri": "https://localhost:8080/",
          "height": 235
        },
        "id": "hKiDBnOG1JbZ",
        "outputId": "928912d7-7e9f-49ac-f69a-621fc7a3c478"
      },
      "outputs": [
        {
          "output_type": "execute_result",
          "data": {
            "text/plain": [
              "     0    1    2    3    4    5    6    7    8    9    ...  270   271   272  \\\n",
              "447   53    1  160   70   80  199  382  154  117  -37  ...  0.0   4.3  -5.0   \n",
              "448   37    0  190   85  100  137  361  201   73   86  ...  0.0  15.6  -1.6   \n",
              "449   36    0  166   68  108  176  365  194  116  -85  ...  0.0  16.3 -28.6   \n",
              "450   32    1  155   55   93  106  386  218   63   54  ... -0.4  12.0  -0.7   \n",
              "451   78    1  160   70   79  127  364  138   78   28  ...  0.0  10.4  -1.8   \n",
              "\n",
              "     273  274  275  276   277   278  279  \n",
              "447  0.0  0.0  0.7  0.6  -4.4  -0.5    1  \n",
              "448  0.0  0.0  0.4  2.4  38.0  62.4   10  \n",
              "449  0.0  0.0  1.5  1.0 -44.2 -33.2    2  \n",
              "450  0.0  0.0  0.5  2.4  25.0  46.6    1  \n",
              "451  0.0  0.0  0.5  1.6  21.3  32.8    1  \n",
              "\n",
              "[5 rows x 280 columns]"
            ],
            "text/html": [
              "\n",
              "  <div id=\"df-bc677ace-fe55-425b-a411-baaa5168a298\">\n",
              "    <div class=\"colab-df-container\">\n",
              "      <div>\n",
              "<style scoped>\n",
              "    .dataframe tbody tr th:only-of-type {\n",
              "        vertical-align: middle;\n",
              "    }\n",
              "\n",
              "    .dataframe tbody tr th {\n",
              "        vertical-align: top;\n",
              "    }\n",
              "\n",
              "    .dataframe thead th {\n",
              "        text-align: right;\n",
              "    }\n",
              "</style>\n",
              "<table border=\"1\" class=\"dataframe\">\n",
              "  <thead>\n",
              "    <tr style=\"text-align: right;\">\n",
              "      <th></th>\n",
              "      <th>0</th>\n",
              "      <th>1</th>\n",
              "      <th>2</th>\n",
              "      <th>3</th>\n",
              "      <th>4</th>\n",
              "      <th>5</th>\n",
              "      <th>6</th>\n",
              "      <th>7</th>\n",
              "      <th>8</th>\n",
              "      <th>9</th>\n",
              "      <th>...</th>\n",
              "      <th>270</th>\n",
              "      <th>271</th>\n",
              "      <th>272</th>\n",
              "      <th>273</th>\n",
              "      <th>274</th>\n",
              "      <th>275</th>\n",
              "      <th>276</th>\n",
              "      <th>277</th>\n",
              "      <th>278</th>\n",
              "      <th>279</th>\n",
              "    </tr>\n",
              "  </thead>\n",
              "  <tbody>\n",
              "    <tr>\n",
              "      <th>447</th>\n",
              "      <td>53</td>\n",
              "      <td>1</td>\n",
              "      <td>160</td>\n",
              "      <td>70</td>\n",
              "      <td>80</td>\n",
              "      <td>199</td>\n",
              "      <td>382</td>\n",
              "      <td>154</td>\n",
              "      <td>117</td>\n",
              "      <td>-37</td>\n",
              "      <td>...</td>\n",
              "      <td>0.0</td>\n",
              "      <td>4.3</td>\n",
              "      <td>-5.0</td>\n",
              "      <td>0.0</td>\n",
              "      <td>0.0</td>\n",
              "      <td>0.7</td>\n",
              "      <td>0.6</td>\n",
              "      <td>-4.4</td>\n",
              "      <td>-0.5</td>\n",
              "      <td>1</td>\n",
              "    </tr>\n",
              "    <tr>\n",
              "      <th>448</th>\n",
              "      <td>37</td>\n",
              "      <td>0</td>\n",
              "      <td>190</td>\n",
              "      <td>85</td>\n",
              "      <td>100</td>\n",
              "      <td>137</td>\n",
              "      <td>361</td>\n",
              "      <td>201</td>\n",
              "      <td>73</td>\n",
              "      <td>86</td>\n",
              "      <td>...</td>\n",
              "      <td>0.0</td>\n",
              "      <td>15.6</td>\n",
              "      <td>-1.6</td>\n",
              "      <td>0.0</td>\n",
              "      <td>0.0</td>\n",
              "      <td>0.4</td>\n",
              "      <td>2.4</td>\n",
              "      <td>38.0</td>\n",
              "      <td>62.4</td>\n",
              "      <td>10</td>\n",
              "    </tr>\n",
              "    <tr>\n",
              "      <th>449</th>\n",
              "      <td>36</td>\n",
              "      <td>0</td>\n",
              "      <td>166</td>\n",
              "      <td>68</td>\n",
              "      <td>108</td>\n",
              "      <td>176</td>\n",
              "      <td>365</td>\n",
              "      <td>194</td>\n",
              "      <td>116</td>\n",
              "      <td>-85</td>\n",
              "      <td>...</td>\n",
              "      <td>0.0</td>\n",
              "      <td>16.3</td>\n",
              "      <td>-28.6</td>\n",
              "      <td>0.0</td>\n",
              "      <td>0.0</td>\n",
              "      <td>1.5</td>\n",
              "      <td>1.0</td>\n",
              "      <td>-44.2</td>\n",
              "      <td>-33.2</td>\n",
              "      <td>2</td>\n",
              "    </tr>\n",
              "    <tr>\n",
              "      <th>450</th>\n",
              "      <td>32</td>\n",
              "      <td>1</td>\n",
              "      <td>155</td>\n",
              "      <td>55</td>\n",
              "      <td>93</td>\n",
              "      <td>106</td>\n",
              "      <td>386</td>\n",
              "      <td>218</td>\n",
              "      <td>63</td>\n",
              "      <td>54</td>\n",
              "      <td>...</td>\n",
              "      <td>-0.4</td>\n",
              "      <td>12.0</td>\n",
              "      <td>-0.7</td>\n",
              "      <td>0.0</td>\n",
              "      <td>0.0</td>\n",
              "      <td>0.5</td>\n",
              "      <td>2.4</td>\n",
              "      <td>25.0</td>\n",
              "      <td>46.6</td>\n",
              "      <td>1</td>\n",
              "    </tr>\n",
              "    <tr>\n",
              "      <th>451</th>\n",
              "      <td>78</td>\n",
              "      <td>1</td>\n",
              "      <td>160</td>\n",
              "      <td>70</td>\n",
              "      <td>79</td>\n",
              "      <td>127</td>\n",
              "      <td>364</td>\n",
              "      <td>138</td>\n",
              "      <td>78</td>\n",
              "      <td>28</td>\n",
              "      <td>...</td>\n",
              "      <td>0.0</td>\n",
              "      <td>10.4</td>\n",
              "      <td>-1.8</td>\n",
              "      <td>0.0</td>\n",
              "      <td>0.0</td>\n",
              "      <td>0.5</td>\n",
              "      <td>1.6</td>\n",
              "      <td>21.3</td>\n",
              "      <td>32.8</td>\n",
              "      <td>1</td>\n",
              "    </tr>\n",
              "  </tbody>\n",
              "</table>\n",
              "<p>5 rows × 280 columns</p>\n",
              "</div>\n",
              "      <button class=\"colab-df-convert\" onclick=\"convertToInteractive('df-bc677ace-fe55-425b-a411-baaa5168a298')\"\n",
              "              title=\"Convert this dataframe to an interactive table.\"\n",
              "              style=\"display:none;\">\n",
              "        \n",
              "  <svg xmlns=\"http://www.w3.org/2000/svg\" height=\"24px\"viewBox=\"0 0 24 24\"\n",
              "       width=\"24px\">\n",
              "    <path d=\"M0 0h24v24H0V0z\" fill=\"none\"/>\n",
              "    <path d=\"M18.56 5.44l.94 2.06.94-2.06 2.06-.94-2.06-.94-.94-2.06-.94 2.06-2.06.94zm-11 1L8.5 8.5l.94-2.06 2.06-.94-2.06-.94L8.5 2.5l-.94 2.06-2.06.94zm10 10l.94 2.06.94-2.06 2.06-.94-2.06-.94-.94-2.06-.94 2.06-2.06.94z\"/><path d=\"M17.41 7.96l-1.37-1.37c-.4-.4-.92-.59-1.43-.59-.52 0-1.04.2-1.43.59L10.3 9.45l-7.72 7.72c-.78.78-.78 2.05 0 2.83L4 21.41c.39.39.9.59 1.41.59.51 0 1.02-.2 1.41-.59l7.78-7.78 2.81-2.81c.8-.78.8-2.07 0-2.86zM5.41 20L4 18.59l7.72-7.72 1.47 1.35L5.41 20z\"/>\n",
              "  </svg>\n",
              "      </button>\n",
              "      \n",
              "  <style>\n",
              "    .colab-df-container {\n",
              "      display:flex;\n",
              "      flex-wrap:wrap;\n",
              "      gap: 12px;\n",
              "    }\n",
              "\n",
              "    .colab-df-convert {\n",
              "      background-color: #E8F0FE;\n",
              "      border: none;\n",
              "      border-radius: 50%;\n",
              "      cursor: pointer;\n",
              "      display: none;\n",
              "      fill: #1967D2;\n",
              "      height: 32px;\n",
              "      padding: 0 0 0 0;\n",
              "      width: 32px;\n",
              "    }\n",
              "\n",
              "    .colab-df-convert:hover {\n",
              "      background-color: #E2EBFA;\n",
              "      box-shadow: 0px 1px 2px rgba(60, 64, 67, 0.3), 0px 1px 3px 1px rgba(60, 64, 67, 0.15);\n",
              "      fill: #174EA6;\n",
              "    }\n",
              "\n",
              "    [theme=dark] .colab-df-convert {\n",
              "      background-color: #3B4455;\n",
              "      fill: #D2E3FC;\n",
              "    }\n",
              "\n",
              "    [theme=dark] .colab-df-convert:hover {\n",
              "      background-color: #434B5C;\n",
              "      box-shadow: 0px 1px 3px 1px rgba(0, 0, 0, 0.15);\n",
              "      filter: drop-shadow(0px 1px 2px rgba(0, 0, 0, 0.3));\n",
              "      fill: #FFFFFF;\n",
              "    }\n",
              "  </style>\n",
              "\n",
              "      <script>\n",
              "        const buttonEl =\n",
              "          document.querySelector('#df-bc677ace-fe55-425b-a411-baaa5168a298 button.colab-df-convert');\n",
              "        buttonEl.style.display =\n",
              "          google.colab.kernel.accessAllowed ? 'block' : 'none';\n",
              "\n",
              "        async function convertToInteractive(key) {\n",
              "          const element = document.querySelector('#df-bc677ace-fe55-425b-a411-baaa5168a298');\n",
              "          const dataTable =\n",
              "            await google.colab.kernel.invokeFunction('convertToInteractive',\n",
              "                                                     [key], {});\n",
              "          if (!dataTable) return;\n",
              "\n",
              "          const docLinkHtml = 'Like what you see? Visit the ' +\n",
              "            '<a target=\"_blank\" href=https://colab.research.google.com/notebooks/data_table.ipynb>data table notebook</a>'\n",
              "            + ' to learn more about interactive tables.';\n",
              "          element.innerHTML = '';\n",
              "          dataTable['output_type'] = 'display_data';\n",
              "          await google.colab.output.renderOutput(dataTable, element);\n",
              "          const docLink = document.createElement('div');\n",
              "          docLink.innerHTML = docLinkHtml;\n",
              "          element.appendChild(docLink);\n",
              "        }\n",
              "      </script>\n",
              "    </div>\n",
              "  </div>\n",
              "  "
            ]
          },
          "metadata": {},
          "execution_count": 7
        }
      ],
      "source": [
        "#Melihat 5 data terbawah\n",
        "df.tail()"
      ]
    },
    {
      "cell_type": "markdown",
      "metadata": {
        "id": "ce4X37cV1Jbd"
      },
      "source": [
        "## **Deskripsi data frame**"
      ]
    },
    {
      "cell_type": "code",
      "execution_count": null,
      "metadata": {
        "colab": {
          "base_uri": "https://localhost:8080/"
        },
        "id": "uhurbWma1Jbe",
        "outputId": "dd706611-c8fd-4307-ccef-997053fc41d3"
      },
      "outputs": [
        {
          "output_type": "execute_result",
          "data": {
            "text/plain": [
              "(452, 280)"
            ]
          },
          "metadata": {},
          "execution_count": 8
        }
      ],
      "source": [
        "#Melihat dimensi atau ukuran dari data set\n",
        "\n",
        "df.shape"
      ]
    },
    {
      "cell_type": "code",
      "execution_count": null,
      "metadata": {
        "colab": {
          "base_uri": "https://localhost:8080/"
        },
        "id": "PagGspN01Jbh",
        "outputId": "0ef89201-207f-4fdb-9387-80ecfe590e25"
      },
      "outputs": [
        {
          "output_type": "stream",
          "name": "stdout",
          "text": [
            "<class 'pandas.core.frame.DataFrame'>\n",
            "RangeIndex: 452 entries, 0 to 451\n",
            "Columns: 280 entries, 0 to 279\n",
            "dtypes: float64(120), int64(155), object(5)\n",
            "memory usage: 988.9+ KB\n"
          ]
        }
      ],
      "source": [
        "#Menampilkan informasi mengenai data set\n",
        "\n",
        "df.info()"
      ]
    },
    {
      "cell_type": "code",
      "execution_count": null,
      "metadata": {
        "colab": {
          "base_uri": "https://localhost:8080/",
          "height": 393
        },
        "id": "1DLGCi-21Jbl",
        "outputId": "49e65ba8-5a18-4a27-ce40-b32a29b04cef"
      },
      "outputs": [
        {
          "output_type": "execute_result",
          "data": {
            "text/plain": [
              "              0           1           2           3           4           5    \\\n",
              "count  452.000000  452.000000  452.000000  452.000000  452.000000  452.000000   \n",
              "mean    46.471239    0.550885  166.188053   68.170354   88.920354  155.152655   \n",
              "std     16.466631    0.497955   37.170340   16.590803   15.364394   44.842283   \n",
              "min      0.000000    0.000000  105.000000    6.000000   55.000000    0.000000   \n",
              "25%     36.000000    0.000000  160.000000   59.000000   80.000000  142.000000   \n",
              "50%     47.000000    1.000000  164.000000   68.000000   86.000000  157.000000   \n",
              "75%     58.000000    1.000000  170.000000   79.000000   94.000000  175.000000   \n",
              "max     83.000000    1.000000  780.000000  176.000000  188.000000  524.000000   \n",
              "\n",
              "              6           7           8           9    ...         270  \\\n",
              "count  452.000000  452.000000  452.000000  452.000000  ...  452.000000   \n",
              "mean   367.207965  169.949115   90.004425   33.676991  ...   -0.278982   \n",
              "std     33.385421   35.633072   25.826643   45.431434  ...    0.548876   \n",
              "min    232.000000  108.000000    0.000000 -172.000000  ...   -4.100000   \n",
              "25%    350.000000  148.000000   79.000000    3.750000  ...   -0.425000   \n",
              "50%    367.000000  162.000000   91.000000   40.000000  ...    0.000000   \n",
              "75%    384.000000  179.000000  102.000000   66.000000  ...    0.000000   \n",
              "max    509.000000  381.000000  205.000000  169.000000  ...    0.000000   \n",
              "\n",
              "              271         272         273    274         275         276  \\\n",
              "count  452.000000  452.000000  452.000000  452.0  452.000000  452.000000   \n",
              "mean     9.048009   -1.457301    0.003982    0.0    0.514823    1.222345   \n",
              "std      3.472862    2.002430    0.050118    0.0    0.347531    1.426052   \n",
              "min      0.000000  -28.600000    0.000000    0.0   -0.800000   -6.000000   \n",
              "25%      6.600000   -2.100000    0.000000    0.0    0.400000    0.500000   \n",
              "50%      8.800000   -1.100000    0.000000    0.0    0.500000    1.350000   \n",
              "75%     11.200000    0.000000    0.000000    0.0    0.700000    2.100000   \n",
              "max     23.600000    0.000000    0.800000    0.0    2.400000    6.000000   \n",
              "\n",
              "              277         278         279  \n",
              "count  452.000000  452.000000  452.000000  \n",
              "mean    19.326106   29.473230    3.880531  \n",
              "std     13.503922   18.493927    4.407097  \n",
              "min    -44.200000  -38.600000    1.000000  \n",
              "25%     11.450000   17.550000    1.000000  \n",
              "50%     18.100000   27.900000    1.000000  \n",
              "75%     25.825000   41.125000    6.000000  \n",
              "max     88.800000  115.900000   16.000000  \n",
              "\n",
              "[8 rows x 275 columns]"
            ],
            "text/html": [
              "\n",
              "  <div id=\"df-b640bbe1-22da-480e-9a6f-9e73f432381b\">\n",
              "    <div class=\"colab-df-container\">\n",
              "      <div>\n",
              "<style scoped>\n",
              "    .dataframe tbody tr th:only-of-type {\n",
              "        vertical-align: middle;\n",
              "    }\n",
              "\n",
              "    .dataframe tbody tr th {\n",
              "        vertical-align: top;\n",
              "    }\n",
              "\n",
              "    .dataframe thead th {\n",
              "        text-align: right;\n",
              "    }\n",
              "</style>\n",
              "<table border=\"1\" class=\"dataframe\">\n",
              "  <thead>\n",
              "    <tr style=\"text-align: right;\">\n",
              "      <th></th>\n",
              "      <th>0</th>\n",
              "      <th>1</th>\n",
              "      <th>2</th>\n",
              "      <th>3</th>\n",
              "      <th>4</th>\n",
              "      <th>5</th>\n",
              "      <th>6</th>\n",
              "      <th>7</th>\n",
              "      <th>8</th>\n",
              "      <th>9</th>\n",
              "      <th>...</th>\n",
              "      <th>270</th>\n",
              "      <th>271</th>\n",
              "      <th>272</th>\n",
              "      <th>273</th>\n",
              "      <th>274</th>\n",
              "      <th>275</th>\n",
              "      <th>276</th>\n",
              "      <th>277</th>\n",
              "      <th>278</th>\n",
              "      <th>279</th>\n",
              "    </tr>\n",
              "  </thead>\n",
              "  <tbody>\n",
              "    <tr>\n",
              "      <th>count</th>\n",
              "      <td>452.000000</td>\n",
              "      <td>452.000000</td>\n",
              "      <td>452.000000</td>\n",
              "      <td>452.000000</td>\n",
              "      <td>452.000000</td>\n",
              "      <td>452.000000</td>\n",
              "      <td>452.000000</td>\n",
              "      <td>452.000000</td>\n",
              "      <td>452.000000</td>\n",
              "      <td>452.000000</td>\n",
              "      <td>...</td>\n",
              "      <td>452.000000</td>\n",
              "      <td>452.000000</td>\n",
              "      <td>452.000000</td>\n",
              "      <td>452.000000</td>\n",
              "      <td>452.0</td>\n",
              "      <td>452.000000</td>\n",
              "      <td>452.000000</td>\n",
              "      <td>452.000000</td>\n",
              "      <td>452.000000</td>\n",
              "      <td>452.000000</td>\n",
              "    </tr>\n",
              "    <tr>\n",
              "      <th>mean</th>\n",
              "      <td>46.471239</td>\n",
              "      <td>0.550885</td>\n",
              "      <td>166.188053</td>\n",
              "      <td>68.170354</td>\n",
              "      <td>88.920354</td>\n",
              "      <td>155.152655</td>\n",
              "      <td>367.207965</td>\n",
              "      <td>169.949115</td>\n",
              "      <td>90.004425</td>\n",
              "      <td>33.676991</td>\n",
              "      <td>...</td>\n",
              "      <td>-0.278982</td>\n",
              "      <td>9.048009</td>\n",
              "      <td>-1.457301</td>\n",
              "      <td>0.003982</td>\n",
              "      <td>0.0</td>\n",
              "      <td>0.514823</td>\n",
              "      <td>1.222345</td>\n",
              "      <td>19.326106</td>\n",
              "      <td>29.473230</td>\n",
              "      <td>3.880531</td>\n",
              "    </tr>\n",
              "    <tr>\n",
              "      <th>std</th>\n",
              "      <td>16.466631</td>\n",
              "      <td>0.497955</td>\n",
              "      <td>37.170340</td>\n",
              "      <td>16.590803</td>\n",
              "      <td>15.364394</td>\n",
              "      <td>44.842283</td>\n",
              "      <td>33.385421</td>\n",
              "      <td>35.633072</td>\n",
              "      <td>25.826643</td>\n",
              "      <td>45.431434</td>\n",
              "      <td>...</td>\n",
              "      <td>0.548876</td>\n",
              "      <td>3.472862</td>\n",
              "      <td>2.002430</td>\n",
              "      <td>0.050118</td>\n",
              "      <td>0.0</td>\n",
              "      <td>0.347531</td>\n",
              "      <td>1.426052</td>\n",
              "      <td>13.503922</td>\n",
              "      <td>18.493927</td>\n",
              "      <td>4.407097</td>\n",
              "    </tr>\n",
              "    <tr>\n",
              "      <th>min</th>\n",
              "      <td>0.000000</td>\n",
              "      <td>0.000000</td>\n",
              "      <td>105.000000</td>\n",
              "      <td>6.000000</td>\n",
              "      <td>55.000000</td>\n",
              "      <td>0.000000</td>\n",
              "      <td>232.000000</td>\n",
              "      <td>108.000000</td>\n",
              "      <td>0.000000</td>\n",
              "      <td>-172.000000</td>\n",
              "      <td>...</td>\n",
              "      <td>-4.100000</td>\n",
              "      <td>0.000000</td>\n",
              "      <td>-28.600000</td>\n",
              "      <td>0.000000</td>\n",
              "      <td>0.0</td>\n",
              "      <td>-0.800000</td>\n",
              "      <td>-6.000000</td>\n",
              "      <td>-44.200000</td>\n",
              "      <td>-38.600000</td>\n",
              "      <td>1.000000</td>\n",
              "    </tr>\n",
              "    <tr>\n",
              "      <th>25%</th>\n",
              "      <td>36.000000</td>\n",
              "      <td>0.000000</td>\n",
              "      <td>160.000000</td>\n",
              "      <td>59.000000</td>\n",
              "      <td>80.000000</td>\n",
              "      <td>142.000000</td>\n",
              "      <td>350.000000</td>\n",
              "      <td>148.000000</td>\n",
              "      <td>79.000000</td>\n",
              "      <td>3.750000</td>\n",
              "      <td>...</td>\n",
              "      <td>-0.425000</td>\n",
              "      <td>6.600000</td>\n",
              "      <td>-2.100000</td>\n",
              "      <td>0.000000</td>\n",
              "      <td>0.0</td>\n",
              "      <td>0.400000</td>\n",
              "      <td>0.500000</td>\n",
              "      <td>11.450000</td>\n",
              "      <td>17.550000</td>\n",
              "      <td>1.000000</td>\n",
              "    </tr>\n",
              "    <tr>\n",
              "      <th>50%</th>\n",
              "      <td>47.000000</td>\n",
              "      <td>1.000000</td>\n",
              "      <td>164.000000</td>\n",
              "      <td>68.000000</td>\n",
              "      <td>86.000000</td>\n",
              "      <td>157.000000</td>\n",
              "      <td>367.000000</td>\n",
              "      <td>162.000000</td>\n",
              "      <td>91.000000</td>\n",
              "      <td>40.000000</td>\n",
              "      <td>...</td>\n",
              "      <td>0.000000</td>\n",
              "      <td>8.800000</td>\n",
              "      <td>-1.100000</td>\n",
              "      <td>0.000000</td>\n",
              "      <td>0.0</td>\n",
              "      <td>0.500000</td>\n",
              "      <td>1.350000</td>\n",
              "      <td>18.100000</td>\n",
              "      <td>27.900000</td>\n",
              "      <td>1.000000</td>\n",
              "    </tr>\n",
              "    <tr>\n",
              "      <th>75%</th>\n",
              "      <td>58.000000</td>\n",
              "      <td>1.000000</td>\n",
              "      <td>170.000000</td>\n",
              "      <td>79.000000</td>\n",
              "      <td>94.000000</td>\n",
              "      <td>175.000000</td>\n",
              "      <td>384.000000</td>\n",
              "      <td>179.000000</td>\n",
              "      <td>102.000000</td>\n",
              "      <td>66.000000</td>\n",
              "      <td>...</td>\n",
              "      <td>0.000000</td>\n",
              "      <td>11.200000</td>\n",
              "      <td>0.000000</td>\n",
              "      <td>0.000000</td>\n",
              "      <td>0.0</td>\n",
              "      <td>0.700000</td>\n",
              "      <td>2.100000</td>\n",
              "      <td>25.825000</td>\n",
              "      <td>41.125000</td>\n",
              "      <td>6.000000</td>\n",
              "    </tr>\n",
              "    <tr>\n",
              "      <th>max</th>\n",
              "      <td>83.000000</td>\n",
              "      <td>1.000000</td>\n",
              "      <td>780.000000</td>\n",
              "      <td>176.000000</td>\n",
              "      <td>188.000000</td>\n",
              "      <td>524.000000</td>\n",
              "      <td>509.000000</td>\n",
              "      <td>381.000000</td>\n",
              "      <td>205.000000</td>\n",
              "      <td>169.000000</td>\n",
              "      <td>...</td>\n",
              "      <td>0.000000</td>\n",
              "      <td>23.600000</td>\n",
              "      <td>0.000000</td>\n",
              "      <td>0.800000</td>\n",
              "      <td>0.0</td>\n",
              "      <td>2.400000</td>\n",
              "      <td>6.000000</td>\n",
              "      <td>88.800000</td>\n",
              "      <td>115.900000</td>\n",
              "      <td>16.000000</td>\n",
              "    </tr>\n",
              "  </tbody>\n",
              "</table>\n",
              "<p>8 rows × 275 columns</p>\n",
              "</div>\n",
              "      <button class=\"colab-df-convert\" onclick=\"convertToInteractive('df-b640bbe1-22da-480e-9a6f-9e73f432381b')\"\n",
              "              title=\"Convert this dataframe to an interactive table.\"\n",
              "              style=\"display:none;\">\n",
              "        \n",
              "  <svg xmlns=\"http://www.w3.org/2000/svg\" height=\"24px\"viewBox=\"0 0 24 24\"\n",
              "       width=\"24px\">\n",
              "    <path d=\"M0 0h24v24H0V0z\" fill=\"none\"/>\n",
              "    <path d=\"M18.56 5.44l.94 2.06.94-2.06 2.06-.94-2.06-.94-.94-2.06-.94 2.06-2.06.94zm-11 1L8.5 8.5l.94-2.06 2.06-.94-2.06-.94L8.5 2.5l-.94 2.06-2.06.94zm10 10l.94 2.06.94-2.06 2.06-.94-2.06-.94-.94-2.06-.94 2.06-2.06.94z\"/><path d=\"M17.41 7.96l-1.37-1.37c-.4-.4-.92-.59-1.43-.59-.52 0-1.04.2-1.43.59L10.3 9.45l-7.72 7.72c-.78.78-.78 2.05 0 2.83L4 21.41c.39.39.9.59 1.41.59.51 0 1.02-.2 1.41-.59l7.78-7.78 2.81-2.81c.8-.78.8-2.07 0-2.86zM5.41 20L4 18.59l7.72-7.72 1.47 1.35L5.41 20z\"/>\n",
              "  </svg>\n",
              "      </button>\n",
              "      \n",
              "  <style>\n",
              "    .colab-df-container {\n",
              "      display:flex;\n",
              "      flex-wrap:wrap;\n",
              "      gap: 12px;\n",
              "    }\n",
              "\n",
              "    .colab-df-convert {\n",
              "      background-color: #E8F0FE;\n",
              "      border: none;\n",
              "      border-radius: 50%;\n",
              "      cursor: pointer;\n",
              "      display: none;\n",
              "      fill: #1967D2;\n",
              "      height: 32px;\n",
              "      padding: 0 0 0 0;\n",
              "      width: 32px;\n",
              "    }\n",
              "\n",
              "    .colab-df-convert:hover {\n",
              "      background-color: #E2EBFA;\n",
              "      box-shadow: 0px 1px 2px rgba(60, 64, 67, 0.3), 0px 1px 3px 1px rgba(60, 64, 67, 0.15);\n",
              "      fill: #174EA6;\n",
              "    }\n",
              "\n",
              "    [theme=dark] .colab-df-convert {\n",
              "      background-color: #3B4455;\n",
              "      fill: #D2E3FC;\n",
              "    }\n",
              "\n",
              "    [theme=dark] .colab-df-convert:hover {\n",
              "      background-color: #434B5C;\n",
              "      box-shadow: 0px 1px 3px 1px rgba(0, 0, 0, 0.15);\n",
              "      filter: drop-shadow(0px 1px 2px rgba(0, 0, 0, 0.3));\n",
              "      fill: #FFFFFF;\n",
              "    }\n",
              "  </style>\n",
              "\n",
              "      <script>\n",
              "        const buttonEl =\n",
              "          document.querySelector('#df-b640bbe1-22da-480e-9a6f-9e73f432381b button.colab-df-convert');\n",
              "        buttonEl.style.display =\n",
              "          google.colab.kernel.accessAllowed ? 'block' : 'none';\n",
              "\n",
              "        async function convertToInteractive(key) {\n",
              "          const element = document.querySelector('#df-b640bbe1-22da-480e-9a6f-9e73f432381b');\n",
              "          const dataTable =\n",
              "            await google.colab.kernel.invokeFunction('convertToInteractive',\n",
              "                                                     [key], {});\n",
              "          if (!dataTable) return;\n",
              "\n",
              "          const docLinkHtml = 'Like what you see? Visit the ' +\n",
              "            '<a target=\"_blank\" href=https://colab.research.google.com/notebooks/data_table.ipynb>data table notebook</a>'\n",
              "            + ' to learn more about interactive tables.';\n",
              "          element.innerHTML = '';\n",
              "          dataTable['output_type'] = 'display_data';\n",
              "          await google.colab.output.renderOutput(dataTable, element);\n",
              "          const docLink = document.createElement('div');\n",
              "          docLink.innerHTML = docLinkHtml;\n",
              "          element.appendChild(docLink);\n",
              "        }\n",
              "      </script>\n",
              "    </div>\n",
              "  </div>\n",
              "  "
            ]
          },
          "metadata": {},
          "execution_count": 10
        }
      ],
      "source": [
        "#Memberikan penjelasan statistik deskriptif dari dataframe\n",
        "\n",
        "df.describe()"
      ]
    },
    {
      "cell_type": "code",
      "source": [
        "df.columns"
      ],
      "metadata": {
        "colab": {
          "base_uri": "https://localhost:8080/"
        },
        "id": "sPcvyEJZnwMn",
        "outputId": "6cab4846-76da-40fe-e852-b2f0a5606111"
      },
      "execution_count": null,
      "outputs": [
        {
          "output_type": "execute_result",
          "data": {
            "text/plain": [
              "Int64Index([  0,   1,   2,   3,   4,   5,   6,   7,   8,   9,\n",
              "            ...\n",
              "            270, 271, 272, 273, 274, 275, 276, 277, 278, 279],\n",
              "           dtype='int64', length=280)"
            ]
          },
          "metadata": {},
          "execution_count": 11
        }
      ]
    },
    {
      "cell_type": "markdown",
      "metadata": {
        "id": "mUUqFfR71JbF"
      },
      "source": [
        "# **1**. **Preprocessing Data**\n",
        "\n",
        "Tujuan dari preprocessing data adalah untuk membersihkan, mengorganisir, dan mengubah data menjadi bentuk yang lebih mudah dipahami dan diolah oleh algoritma atau model yang akan digunakan."
      ]
    },
    {
      "cell_type": "markdown",
      "metadata": {
        "id": "7x_lFwIZ1Jbo"
      },
      "source": [
        "### Menangani Nilai yang Hilang\n",
        "\n",
        "Setelah melihat dataset, ada beberapa atribut memiliki nilai yang hilang dalam bentuk\n",
        "dari '?'. Maka :\n",
        "\n",
        "- Mengganti '?' dengan numpy.NAN.\n",
        "- Memasukkan nilai rata-rata menggunakan Simple Imputer."
      ]
    },
    {
      "cell_type": "markdown",
      "metadata": {
        "id": "lkGjKgw31Jbp"
      },
      "source": [
        "**Checking for null values in dataset**"
      ]
    },
    {
      "cell_type": "code",
      "execution_count": null,
      "metadata": {
        "id": "gowC_0oL1Jbp",
        "colab": {
          "base_uri": "https://localhost:8080/"
        },
        "outputId": "102bd8ae-ebd7-4630-dbd5-665aea72acae"
      },
      "outputs": [
        {
          "output_type": "execute_result",
          "data": {
            "text/plain": [
              "0"
            ]
          },
          "metadata": {},
          "execution_count": 12
        }
      ],
      "source": [
        "#Menghitung jumlah total nilai null awal\n",
        "pd.isnull(df).sum().sum()"
      ]
    },
    {
      "cell_type": "code",
      "execution_count": null,
      "metadata": {
        "id": "Z5G4BcfO1Jbt"
      },
      "outputs": [],
      "source": [
        "#Mengganti '?' dengan numpy.NAN.\n",
        "\n",
        "df = df.replace('?', np.NaN)"
      ]
    },
    {
      "cell_type": "code",
      "execution_count": null,
      "metadata": {
        "colab": {
          "base_uri": "https://localhost:8080/"
        },
        "id": "8SP3RHAI1Jbw",
        "outputId": "c7494d7e-70be-40ed-f67c-3f84ac1a3469"
      },
      "outputs": [
        {
          "output_type": "execute_result",
          "data": {
            "text/plain": [
              "408"
            ]
          },
          "metadata": {},
          "execution_count": 14
        }
      ],
      "source": [
        "#Menghitung jumlah total akhir nilai null dalam dataset\n",
        "\n",
        "nv=pd.isnull(df).sum().sum()\n",
        "nv"
      ]
    },
    {
      "cell_type": "markdown",
      "metadata": {
        "id": "ddVfLwLw1Jbz"
      },
      "source": [
        "## **Memvisualisasikan distribusi data yang hilang:**"
      ]
    },
    {
      "cell_type": "code",
      "execution_count": null,
      "metadata": {
        "colab": {
          "base_uri": "https://localhost:8080/",
          "height": 466
        },
        "id": "dYZmRnur1Jb0",
        "outputId": "6c8551d1-a618-4853-8499-ef5b6388d9cd"
      },
      "outputs": [
        {
          "output_type": "execute_result",
          "data": {
            "text/plain": [
              "Text(0, 0.5, 'Banyaknya nilai null di setiap kolom')"
            ]
          },
          "metadata": {},
          "execution_count": 15
        },
        {
          "output_type": "display_data",
          "data": {
            "text/plain": [
              "<Figure size 640x480 with 1 Axes>"
            ],
            "image/png": "[encoded data removed]"
          },
          "metadata": {}
        }
      ],
      "source": [
        "pd.isnull(df).sum().plot()\n",
        "plt.xlabel('Nomor Kolom')\n",
        "plt.ylabel('Banyaknya nilai null di setiap kolom')"
      ]
    },
    {
      "cell_type": "code",
      "execution_count": null,
      "metadata": {
        "colab": {
          "base_uri": "https://localhost:8080/",
          "height": 470
        },
        "id": "yv8oI-_J1Jb3",
        "outputId": "b0940b88-e8d0-4b68-d301-4325ff1111f8"
      },
      "outputs": [
        {
          "output_type": "execute_result",
          "data": {
            "text/plain": [
              "Text(0, 0.5, 'Banyaknya nilai null di setiap kolom')"
            ]
          },
          "metadata": {},
          "execution_count": 16
        },
        {
          "output_type": "display_data",
          "data": {
            "text/plain": [
              "<Figure size 640x480 with 1 Axes>"
            ],
            "image/png": "[encoded data removed]"
          },
          "metadata": {}
        }
      ],
      "source": [
        "#Memperbesar tampilan\n",
        "\n",
        "pd.isnull(df).sum()[7:17].plot(kind=\"bar\")\n",
        "plt.xlabel('Kolom')\n",
        "plt.ylabel('Banyaknya nilai null di setiap kolom')"
      ]
    },
    {
      "cell_type": "markdown",
      "metadata": {
        "id": "t97CUiPV8JZ7"
      },
      "source": [
        "Kolom 13 berisi lebih dari 350 nilai yang hilang dari total 452 instance. jadi kami akan menghapus kolom 13. atribut lain memiliki nilai nol yang relatif lebih sedikit. Jadi alih-alih menjatuhkan, kami akan mengganti nilai nol dari atribut lain dengan nilai rata-ratanya."
      ]
    },
    {
      "cell_type": "code",
      "execution_count": null,
      "metadata": {
        "id": "_N0LGsNs1Jb9"
      },
      "outputs": [],
      "source": [
        "#Menghapus kolom 13\n",
        "\n",
        "df.drop(columns = 13, inplace=True)"
      ]
    },
    {
      "cell_type": "markdown",
      "metadata": {
        "id": "4f3jshNN1Jb_"
      },
      "source": [
        "## **Menggunakan strategi pengisian nilai rata-rata (mean) dalam imputasi**\n",
        "\n",
        "Imputasi adalah proses mengisi nilai yang hilang atau yang tidak valid pada dataset dengan nilai yang memadai"
      ]
    },
    {
      "cell_type": "code",
      "execution_count": null,
      "metadata": {
        "id": "BS7xxLCr1JcA"
      },
      "outputs": [],
      "source": [
        "#Melakukan salinan untuk menghindari perubahan pada data asli (saat melakukan imputasi)\n",
        "\n",
        "new_df = df.copy()"
      ]
    },
    {
      "cell_type": "code",
      "execution_count": null,
      "metadata": {
        "id": "iMolbQAe1JcC"
      },
      "outputs": [],
      "source": [
        "#Membuat kolom-kolom baru yang menandakan nilai mana yang akan diimputasi\n",
        "\n",
        "cols_with_missing = (col for col in new_df.columns if new_df[col].isnull().any())\n",
        "for col in cols_with_missing:\n",
        "    new_df[col] = new_df[col].isnull()"
      ]
    },
    {
      "cell_type": "code",
      "execution_count": null,
      "metadata": {
        "id": "2dsw6kII1JcF"
      },
      "outputs": [],
      "source": [
        "#Proses Imputasi\n",
        "\n",
        "my_imputer = SimpleImputer()\n",
        "new_df = pd.DataFrame(my_imputer.fit_transform(new_df))\n",
        "new_df.columns = df.columns"
      ]
    },
    {
      "cell_type": "code",
      "execution_count": null,
      "metadata": {
        "colab": {
          "base_uri": "https://localhost:8080/",
          "height": 235
        },
        "id": "ColsJv0J1JcJ",
        "outputId": "b7a5ecbf-1601-4501-b187-698da7d34239"
      },
      "outputs": [
        {
          "output_type": "execute_result",
          "data": {
            "text/plain": [
              "    0    1      2     3      4      5      6      7      8     9    ...  270  \\\n",
              "0  75.0  0.0  190.0  80.0   91.0  193.0  371.0  174.0  121.0 -16.0  ...  0.0   \n",
              "1  56.0  1.0  165.0  64.0   81.0  174.0  401.0  149.0   39.0  25.0  ...  0.0   \n",
              "2  54.0  0.0  172.0  95.0  138.0  163.0  386.0  185.0  102.0  96.0  ...  0.0   \n",
              "3  55.0  0.0  175.0  94.0  100.0  202.0  380.0  179.0  143.0  28.0  ...  0.0   \n",
              "4  75.0  0.0  190.0  80.0   88.0  181.0  360.0  177.0  103.0 -16.0  ...  0.0   \n",
              "\n",
              "    271  272  273  274  275  276   277   278   279  \n",
              "0   9.0 -0.9  0.0  0.0  0.9  2.9  23.3  49.4   8.0  \n",
              "1   8.5  0.0  0.0  0.0  0.2  2.1  20.4  38.8   6.0  \n",
              "2   9.5 -2.4  0.0  0.0  0.3  3.4  12.3  49.0  10.0  \n",
              "3  12.2 -2.2  0.0  0.0  0.4  2.6  34.6  61.6   1.0  \n",
              "4  13.1 -3.6  0.0  0.0 -0.1  3.9  25.4  62.8   7.0  \n",
              "\n",
              "[5 rows x 279 columns]"
            ],
            "text/html": [
              "\n",
              "  <div id=\"df-ce8de8de-b067-4117-a4c9-25ce1bc01383\">\n",
              "    <div class=\"colab-df-container\">\n",
              "      <div>\n",
              "<style scoped>\n",
              "    .dataframe tbody tr th:only-of-type {\n",
              "        vertical-align: middle;\n",
              "    }\n",
              "\n",
              "    .dataframe tbody tr th {\n",
              "        vertical-align: top;\n",
              "    }\n",
              "\n",
              "    .dataframe thead th {\n",
              "        text-align: right;\n",
              "    }\n",
              "</style>\n",
              "<table border=\"1\" class=\"dataframe\">\n",
              "  <thead>\n",
              "    <tr style=\"text-align: right;\">\n",
              "      <th></th>\n",
              "      <th>0</th>\n",
              "      <th>1</th>\n",
              "      <th>2</th>\n",
              "      <th>3</th>\n",
              "      <th>4</th>\n",
              "      <th>5</th>\n",
              "      <th>6</th>\n",
              "      <th>7</th>\n",
              "      <th>8</th>\n",
              "      <th>9</th>\n",
              "      <th>...</th>\n",
              "      <th>270</th>\n",
              "      <th>271</th>\n",
              "      <th>272</th>\n",
              "      <th>273</th>\n",
              "      <th>274</th>\n",
              "      <th>275</th>\n",
              "      <th>276</th>\n",
              "      <th>277</th>\n",
              "      <th>278</th>\n",
              "      <th>279</th>\n",
              "    </tr>\n",
              "  </thead>\n",
              "  <tbody>\n",
              "    <tr>\n",
              "      <th>0</th>\n",
              "      <td>75.0</td>\n",
              "      <td>0.0</td>\n",
              "      <td>190.0</td>\n",
              "      <td>80.0</td>\n",
              "      <td>91.0</td>\n",
              "      <td>193.0</td>\n",
              "      <td>371.0</td>\n",
              "      <td>174.0</td>\n",
              "      <td>121.0</td>\n",
              "      <td>-16.0</td>\n",
              "      <td>...</td>\n",
              "      <td>0.0</td>\n",
              "      <td>9.0</td>\n",
              "      <td>-0.9</td>\n",
              "      <td>0.0</td>\n",
              "      <td>0.0</td>\n",
              "      <td>0.9</td>\n",
              "      <td>2.9</td>\n",
              "      <td>23.3</td>\n",
              "      <td>49.4</td>\n",
              "      <td>8.0</td>\n",
              "    </tr>\n",
              "    <tr>\n",
              "      <th>1</th>\n",
              "      <td>56.0</td>\n",
              "      <td>1.0</td>\n",
              "      <td>165.0</td>\n",
              "      <td>64.0</td>\n",
              "      <td>81.0</td>\n",
              "      <td>174.0</td>\n",
              "      <td>401.0</td>\n",
              "      <td>149.0</td>\n",
              "      <td>39.0</td>\n",
              "      <td>25.0</td>\n",
              "      <td>...</td>\n",
              "      <td>0.0</td>\n",
              "      <td>8.5</td>\n",
              "      <td>0.0</td>\n",
              "      <td>0.0</td>\n",
              "      <td>0.0</td>\n",
              "      <td>0.2</td>\n",
              "      <td>2.1</td>\n",
              "      <td>20.4</td>\n",
              "      <td>38.8</td>\n",
              "      <td>6.0</td>\n",
              "    </tr>\n",
              "    <tr>\n",
              "      <th>2</th>\n",
              "      <td>54.0</td>\n",
              "      <td>0.0</td>\n",
              "      <td>172.0</td>\n",
              "      <td>95.0</td>\n",
              "      <td>138.0</td>\n",
              "      <td>163.0</td>\n",
              "      <td>386.0</td>\n",
              "      <td>185.0</td>\n",
              "      <td>102.0</td>\n",
              "      <td>96.0</td>\n",
              "      <td>...</td>\n",
              "      <td>0.0</td>\n",
              "      <td>9.5</td>\n",
              "      <td>-2.4</td>\n",
              "      <td>0.0</td>\n",
              "      <td>0.0</td>\n",
              "      <td>0.3</td>\n",
              "      <td>3.4</td>\n",
              "      <td>12.3</td>\n",
              "      <td>49.0</td>\n",
              "      <td>10.0</td>\n",
              "    </tr>\n",
              "    <tr>\n",
              "      <th>3</th>\n",
              "      <td>55.0</td>\n",
              "      <td>0.0</td>\n",
              "      <td>175.0</td>\n",
              "      <td>94.0</td>\n",
              "      <td>100.0</td>\n",
              "      <td>202.0</td>\n",
              "      <td>380.0</td>\n",
              "      <td>179.0</td>\n",
              "      <td>143.0</td>\n",
              "      <td>28.0</td>\n",
              "      <td>...</td>\n",
              "      <td>0.0</td>\n",
              "      <td>12.2</td>\n",
              "      <td>-2.2</td>\n",
              "      <td>0.0</td>\n",
              "      <td>0.0</td>\n",
              "      <td>0.4</td>\n",
              "      <td>2.6</td>\n",
              "      <td>34.6</td>\n",
              "      <td>61.6</td>\n",
              "      <td>1.0</td>\n",
              "    </tr>\n",
              "    <tr>\n",
              "      <th>4</th>\n",
              "      <td>75.0</td>\n",
              "      <td>0.0</td>\n",
              "      <td>190.0</td>\n",
              "      <td>80.0</td>\n",
              "      <td>88.0</td>\n",
              "      <td>181.0</td>\n",
              "      <td>360.0</td>\n",
              "      <td>177.0</td>\n",
              "      <td>103.0</td>\n",
              "      <td>-16.0</td>\n",
              "      <td>...</td>\n",
              "      <td>0.0</td>\n",
              "      <td>13.1</td>\n",
              "      <td>-3.6</td>\n",
              "      <td>0.0</td>\n",
              "      <td>0.0</td>\n",
              "      <td>-0.1</td>\n",
              "      <td>3.9</td>\n",
              "      <td>25.4</td>\n",
              "      <td>62.8</td>\n",
              "      <td>7.0</td>\n",
              "    </tr>\n",
              "  </tbody>\n",
              "</table>\n",
              "<p>5 rows × 279 columns</p>\n",
              "</div>\n",
              "      <button class=\"colab-df-convert\" onclick=\"convertToInteractive('df-ce8de8de-b067-4117-a4c9-25ce1bc01383')\"\n",
              "              title=\"Convert this dataframe to an interactive table.\"\n",
              "              style=\"display:none;\">\n",
              "        \n",
              "  <svg xmlns=\"http://www.w3.org/2000/svg\" height=\"24px\"viewBox=\"0 0 24 24\"\n",
              "       width=\"24px\">\n",
              "    <path d=\"M0 0h24v24H0V0z\" fill=\"none\"/>\n",
              "    <path d=\"M18.56 5.44l.94 2.06.94-2.06 2.06-.94-2.06-.94-.94-2.06-.94 2.06-2.06.94zm-11 1L8.5 8.5l.94-2.06 2.06-.94-2.06-.94L8.5 2.5l-.94 2.06-2.06.94zm10 10l.94 2.06.94-2.06 2.06-.94-2.06-.94-.94-2.06-.94 2.06-2.06.94z\"/><path d=\"M17.41 7.96l-1.37-1.37c-.4-.4-.92-.59-1.43-.59-.52 0-1.04.2-1.43.59L10.3 9.45l-7.72 7.72c-.78.78-.78 2.05 0 2.83L4 21.41c.39.39.9.59 1.41.59.51 0 1.02-.2 1.41-.59l7.78-7.78 2.81-2.81c.8-.78.8-2.07 0-2.86zM5.41 20L4 18.59l7.72-7.72 1.47 1.35L5.41 20z\"/>\n",
              "  </svg>\n",
              "      </button>\n",
              "      \n",
              "  <style>\n",
              "    .colab-df-container {\n",
              "      display:flex;\n",
              "      flex-wrap:wrap;\n",
              "      gap: 12px;\n",
              "    }\n",
              "\n",
              "    .colab-df-convert {\n",
              "      background-color: #E8F0FE;\n",
              "      border: none;\n",
              "      border-radius: 50%;\n",
              "      cursor: pointer;\n",
              "      display: none;\n",
              "      fill: #1967D2;\n",
              "      height: 32px;\n",
              "      padding: 0 0 0 0;\n",
              "      width: 32px;\n",
              "    }\n",
              "\n",
              "    .colab-df-convert:hover {\n",
              "      background-color: #E2EBFA;\n",
              "      box-shadow: 0px 1px 2px rgba(60, 64, 67, 0.3), 0px 1px 3px 1px rgba(60, 64, 67, 0.15);\n",
              "      fill: #174EA6;\n",
              "    }\n",
              "\n",
              "    [theme=dark] .colab-df-convert {\n",
              "      background-color: #3B4455;\n",
              "      fill: #D2E3FC;\n",
              "    }\n",
              "\n",
              "    [theme=dark] .colab-df-convert:hover {\n",
              "      background-color: #434B5C;\n",
              "      box-shadow: 0px 1px 3px 1px rgba(0, 0, 0, 0.15);\n",
              "      filter: drop-shadow(0px 1px 2px rgba(0, 0, 0, 0.3));\n",
              "      fill: #FFFFFF;\n",
              "    }\n",
              "  </style>\n",
              "\n",
              "      <script>\n",
              "        const buttonEl =\n",
              "          document.querySelector('#df-ce8de8de-b067-4117-a4c9-25ce1bc01383 button.colab-df-convert');\n",
              "        buttonEl.style.display =\n",
              "          google.colab.kernel.accessAllowed ? 'block' : 'none';\n",
              "\n",
              "        async function convertToInteractive(key) {\n",
              "          const element = document.querySelector('#df-ce8de8de-b067-4117-a4c9-25ce1bc01383');\n",
              "          const dataTable =\n",
              "            await google.colab.kernel.invokeFunction('convertToInteractive',\n",
              "                                                     [key], {});\n",
              "          if (!dataTable) return;\n",
              "\n",
              "          const docLinkHtml = 'Like what you see? Visit the ' +\n",
              "            '<a target=\"_blank\" href=https://colab.research.google.com/notebooks/data_table.ipynb>data table notebook</a>'\n",
              "            + ' to learn more about interactive tables.';\n",
              "          element.innerHTML = '';\n",
              "          dataTable['output_type'] = 'display_data';\n",
              "          await google.colab.output.renderOutput(dataTable, element);\n",
              "          const docLink = document.createElement('div');\n",
              "          docLink.innerHTML = docLinkHtml;\n",
              "          element.appendChild(docLink);\n",
              "        }\n",
              "      </script>\n",
              "    </div>\n",
              "  </div>\n",
              "  "
            ]
          },
          "metadata": {},
          "execution_count": 21
        }
      ],
      "source": [
        "#imputed dataframe\n",
        "\n",
        "new_df.head()"
      ]
    },
    {
      "cell_type": "code",
      "source": [
        "pd.isnull(new_df).sum().sum()"
      ],
      "metadata": {
        "colab": {
          "base_uri": "https://localhost:8080/"
        },
        "id": "mp48HOqqFmd4",
        "outputId": "61e3b8d1-cbf3-496c-975e-b0160a1fc511"
      },
      "execution_count": null,
      "outputs": [
        {
          "output_type": "execute_result",
          "data": {
            "text/plain": [
              "0"
            ]
          },
          "metadata": {},
          "execution_count": 22
        }
      ]
    },
    {
      "cell_type": "code",
      "execution_count": null,
      "metadata": {
        "colab": {
          "base_uri": "https://localhost:8080/"
        },
        "id": "fuqgoZT01JcM",
        "outputId": "ff76c6e5-5654-4509-824b-af15842d4b86"
      },
      "outputs": [
        {
          "output_type": "execute_result",
          "data": {
            "text/plain": [
              "0      0\n",
              "1      0\n",
              "2      0\n",
              "3      0\n",
              "4      0\n",
              "      ..\n",
              "275    0\n",
              "276    0\n",
              "277    0\n",
              "278    0\n",
              "279    0\n",
              "Length: 279, dtype: int64"
            ]
          },
          "metadata": {},
          "execution_count": 23
        }
      ],
      "source": [
        "# DataSet dengan nilai null\n",
        "\n",
        "pd.isnull(new_df).sum()"
      ]
    },
    {
      "cell_type": "markdown",
      "metadata": {
        "id": "pqtcjgG_1JcP"
      },
      "source": [
        "## **Membuat Data Set Final**"
      ]
    },
    {
      "cell_type": "code",
      "execution_count": null,
      "metadata": {
        "id": "f5FlHdB81JcQ"
      },
      "outputs": [],
      "source": [
        "#Creating column names\n",
        "\n",
        "final_df_columns=[\n",
        "                    \"Age\",\"Sex\",\"Height\",\"Weight\",\"QRS_Dur\", \"P-R_Int\",\"Q-T_Int\",\"T_Int\",\"P_Int\",\"QRS\",\"T\",\"P\",\"J\",\"Heart_Rate\", \"Q_Wave\",\"R_Wave\",\"S_Wave\",\"R'_Wave\",\"S'_Wave\",\"Int_Def\",\"Rag_R_Nom\",\n",
        "                    \"Diph_R_Nom\",\"Rag_P_Nom\",\"Diph_P_Nom\",\"Rag_T_Nom\",\"Diph_T_Nom\", \"DII00\", \"DII01\",\"DII02\", \"DII03\", \"DII04\",\"DII05\",\"DII06\",\"DII07\",\"DII08\",\"DII09\",\"DII10\",\"DII11\",\n",
        "                    \"DIII00\",\"DIII01\",\"DIII02\", \"DIII03\", \"DIII04\",\"DIII05\",\"DIII06\",\"DIII07\",\"DIII08\",\"DIII09\",\"DIII10\",\"DIII11\", \"AVR00\",\"AVR01\",\"AVR02\",\"AVR03\",\"AVR04\",\"AVR05\",\"AVR06\",\"AVR07\",\"AVR08\",\"AVR09\",\"AVR10\",\"AVR11\",\n",
        "                    \"AVL00\",\"AVL01\",\"AVL02\",\"AVL03\",\"AVL04\",\"AVL05\",\"AVL06\",\"AVL07\",\"AVL08\",\"AVL09\",\"AVL10\",\"AVL11\", \"AVF00\",\"AVF01\",\"AVF02\",\"AVF03\",\"AVF04\",\"AVF05\",\"AVF06\",\"AVF07\",\"AVF08\",\"AVF09\",\"AVF10\",\"AVF11\",\n",
        "                    \"V100\",\"V101\",\"V102\",\"V103\",\"V104\",\"V105\",\"V106\",\"V107\",\"V108\",\"V109\",\"V110\",\"V111\", \"V200\",\"V201\",\"V202\",\"V203\",\"V204\",\"V205\",\"V206\",\"V207\",\"V208\",\"V209\",\"V210\",\"V211\",\n",
        "                    \"V300\",\"V301\",\"V302\",\"V303\",\"V304\",\"V305\",\"V306\",\"V307\",\"V308\",\"V309\",\"V310\",\"V311\", \"V400\",\"V401\",\"V402\",\"V403\",\"V404\",\"V405\",\"V406\",\"V407\",\"V408\",\"V409\",\"V410\",\"V411\",\n",
        "                    \"V500\",\"V501\",\"V502\",\"V503\",\"V504\",\"V505\",\"V506\",\"V507\",\"V508\",\"V509\",\"V510\",\"V511\", \"V600\",\"V601\",\"V602\",\"V603\",\"V604\",\"V605\",\"V606\",\"V607\",\"V608\",\"V609\",\"V610\",\"V611\",\n",
        "                    \"JJ_Wave\",\"Amp_Q_Wave\",\"Amp_R_Wave\",\"Amp_S_Wave\",\"R_Prime_Wave\",\"S_Prime_Wave\",\"P_Wave\",\"T_Wave\",\"QRSA\",\"QRSTA\",\"DII170\",\"DII171\",\"DII172\",\"DII173\",\"DII174\",\"DII175\",\"DII176\",\"DII177\",\"DII178\",\"DII179\",\n",
        "                    \"DIII180\",\"DIII181\",\"DIII182\",\"DIII183\",\"DIII184\",\"DIII185\",\"DIII186\",\"DIII187\",\"DIII188\",\"DIII189\",\"AVR190\",\"AVR191\",\"AVR192\",\"AVR193\",\"AVR194\",\"AVR195\",\"AVR196\",\"AVR197\",\"AVR198\",\"AVR199\",\n",
        "                    \"AVL200\",\"AVL201\",\"AVL202\",\"AVL203\",\"AVL204\",\"AVL205\",\"AVL206\",\"AVL207\",\"AVL208\",\"AVL209\",\"AVF210\",\"AVF211\",\"AVF212\",\"AVF213\",\"AVF214\",\"AVF215\",\"AVF216\",\"AVF217\",\"AVF218\",\"AVF219\",\n",
        "                    \"V1220\",\"V1221\",\"V1222\",\"V1223\",\"V1224\",\"V1225\",\"V1226\",\"V1227\",\"V1228\",\"V1229\",\"V2230\",\"V2231\",\"V2232\",\"V2233\",\"V2234\",\"V2235\",\"V2236\",\"V2237\",\"V2238\",\"V2239\",\n",
        "                    \"V3240\",\"V3241\",\"V3242\",\"V3243\",\"V3244\",\"V3245\",\"V3246\",\"V3247\",\"V3248\",\"V3249\",\"V4250\",\"V4251\",\"V4252\",\"V4253\",\"V4254\",\"V4255\",\"V4256\",\"V4257\",\"V4258\",\"V4259\",\n",
        "                    \"V5260\",\"V5261\",\"V5262\",\"V5263\",\"V5264\",\"V5265\",\"V5266\",\"V5267\",\"V5268\",\"V5269\",\"V6270\",\"V6271\",\"V6272\",\"V6273\",\"V6274\",\"V6275\",\"V6276\",\"V6277\",\"V6278\",\"V6279\",\"class\"\n",
        "                  ]"
      ]
    },
    {
      "cell_type": "code",
      "execution_count": null,
      "metadata": {
        "colab": {
          "base_uri": "https://localhost:8080/",
          "height": 235
        },
        "id": "yGXCWE_N1JcS",
        "outputId": "28a01f6f-e40d-4f6d-f5b4-a59268184825"
      },
      "outputs": [
        {
          "output_type": "execute_result",
          "data": {
            "text/plain": [
              "    Age  Sex  Height  Weight  QRS_Dur  P-R_Int  Q-T_Int  T_Int  P_Int   QRS  \\\n",
              "0  75.0  0.0   190.0    80.0     91.0    193.0    371.0  174.0  121.0 -16.0   \n",
              "1  56.0  1.0   165.0    64.0     81.0    174.0    401.0  149.0   39.0  25.0   \n",
              "2  54.0  0.0   172.0    95.0    138.0    163.0    386.0  185.0  102.0  96.0   \n",
              "3  55.0  0.0   175.0    94.0    100.0    202.0    380.0  179.0  143.0  28.0   \n",
              "4  75.0  0.0   190.0    80.0     88.0    181.0    360.0  177.0  103.0 -16.0   \n",
              "\n",
              "   ...  V6271  V6272  V6273  V6274  V6275  V6276  V6277  V6278  V6279  class  \n",
              "0  ...    0.0    9.0   -0.9    0.0    0.0    0.9    2.9   23.3   49.4    8.0  \n",
              "1  ...    0.0    8.5    0.0    0.0    0.0    0.2    2.1   20.4   38.8    6.0  \n",
              "2  ...    0.0    9.5   -2.4    0.0    0.0    0.3    3.4   12.3   49.0   10.0  \n",
              "3  ...    0.0   12.2   -2.2    0.0    0.0    0.4    2.6   34.6   61.6    1.0  \n",
              "4  ...    0.0   13.1   -3.6    0.0    0.0   -0.1    3.9   25.4   62.8    7.0  \n",
              "\n",
              "[5 rows x 279 columns]"
            ],
            "text/html": [
              "\n",
              "  <div id=\"df-27fae6e1-ae2d-40a6-adf8-f5b7e51043e0\">\n",
              "    <div class=\"colab-df-container\">\n",
              "      <div>\n",
              "<style scoped>\n",
              "    .dataframe tbody tr th:only-of-type {\n",
              "        vertical-align: middle;\n",
              "    }\n",
              "\n",
              "    .dataframe tbody tr th {\n",
              "        vertical-align: top;\n",
              "    }\n",
              "\n",
              "    .dataframe thead th {\n",
              "        text-align: right;\n",
              "    }\n",
              "</style>\n",
              "<table border=\"1\" class=\"dataframe\">\n",
              "  <thead>\n",
              "    <tr style=\"text-align: right;\">\n",
              "      <th></th>\n",
              "      <th>Age</th>\n",
              "      <th>Sex</th>\n",
              "      <th>Height</th>\n",
              "      <th>Weight</th>\n",
              "      <th>QRS_Dur</th>\n",
              "      <th>P-R_Int</th>\n",
              "      <th>Q-T_Int</th>\n",
              "      <th>T_Int</th>\n",
              "      <th>P_Int</th>\n",
              "      <th>QRS</th>\n",
              "      <th>...</th>\n",
              "      <th>V6271</th>\n",
              "      <th>V6272</th>\n",
              "      <th>V6273</th>\n",
              "      <th>V6274</th>\n",
              "      <th>V6275</th>\n",
              "      <th>V6276</th>\n",
              "      <th>V6277</th>\n",
              "      <th>V6278</th>\n",
              "      <th>V6279</th>\n",
              "      <th>class</th>\n",
              "    </tr>\n",
              "  </thead>\n",
              "  <tbody>\n",
              "    <tr>\n",
              "      <th>0</th>\n",
              "      <td>75.0</td>\n",
              "      <td>0.0</td>\n",
              "      <td>190.0</td>\n",
              "      <td>80.0</td>\n",
              "      <td>91.0</td>\n",
              "      <td>193.0</td>\n",
              "      <td>371.0</td>\n",
              "      <td>174.0</td>\n",
              "      <td>121.0</td>\n",
              "      <td>-16.0</td>\n",
              "      <td>...</td>\n",
              "      <td>0.0</td>\n",
              "      <td>9.0</td>\n",
              "      <td>-0.9</td>\n",
              "      <td>0.0</td>\n",
              "      <td>0.0</td>\n",
              "      <td>0.9</td>\n",
              "      <td>2.9</td>\n",
              "      <td>23.3</td>\n",
              "      <td>49.4</td>\n",
              "      <td>8.0</td>\n",
              "    </tr>\n",
              "    <tr>\n",
              "      <th>1</th>\n",
              "      <td>56.0</td>\n",
              "      <td>1.0</td>\n",
              "      <td>165.0</td>\n",
              "      <td>64.0</td>\n",
              "      <td>81.0</td>\n",
              "      <td>174.0</td>\n",
              "      <td>401.0</td>\n",
              "      <td>149.0</td>\n",
              "      <td>39.0</td>\n",
              "      <td>25.0</td>\n",
              "      <td>...</td>\n",
              "      <td>0.0</td>\n",
              "      <td>8.5</td>\n",
              "      <td>0.0</td>\n",
              "      <td>0.0</td>\n",
              "      <td>0.0</td>\n",
              "      <td>0.2</td>\n",
              "      <td>2.1</td>\n",
              "      <td>20.4</td>\n",
              "      <td>38.8</td>\n",
              "      <td>6.0</td>\n",
              "    </tr>\n",
              "    <tr>\n",
              "      <th>2</th>\n",
              "      <td>54.0</td>\n",
              "      <td>0.0</td>\n",
              "      <td>172.0</td>\n",
              "      <td>95.0</td>\n",
              "      <td>138.0</td>\n",
              "      <td>163.0</td>\n",
              "      <td>386.0</td>\n",
              "      <td>185.0</td>\n",
              "      <td>102.0</td>\n",
              "      <td>96.0</td>\n",
              "      <td>...</td>\n",
              "      <td>0.0</td>\n",
              "      <td>9.5</td>\n",
              "      <td>-2.4</td>\n",
              "      <td>0.0</td>\n",
              "      <td>0.0</td>\n",
              "      <td>0.3</td>\n",
              "      <td>3.4</td>\n",
              "      <td>12.3</td>\n",
              "      <td>49.0</td>\n",
              "      <td>10.0</td>\n",
              "    </tr>\n",
              "    <tr>\n",
              "      <th>3</th>\n",
              "      <td>55.0</td>\n",
              "      <td>0.0</td>\n",
              "      <td>175.0</td>\n",
              "      <td>94.0</td>\n",
              "      <td>100.0</td>\n",
              "      <td>202.0</td>\n",
              "      <td>380.0</td>\n",
              "      <td>179.0</td>\n",
              "      <td>143.0</td>\n",
              "      <td>28.0</td>\n",
              "      <td>...</td>\n",
              "      <td>0.0</td>\n",
              "      <td>12.2</td>\n",
              "      <td>-2.2</td>\n",
              "      <td>0.0</td>\n",
              "      <td>0.0</td>\n",
              "      <td>0.4</td>\n",
              "      <td>2.6</td>\n",
              "      <td>34.6</td>\n",
              "      <td>61.6</td>\n",
              "      <td>1.0</td>\n",
              "    </tr>\n",
              "    <tr>\n",
              "      <th>4</th>\n",
              "      <td>75.0</td>\n",
              "      <td>0.0</td>\n",
              "      <td>190.0</td>\n",
              "      <td>80.0</td>\n",
              "      <td>88.0</td>\n",
              "      <td>181.0</td>\n",
              "      <td>360.0</td>\n",
              "      <td>177.0</td>\n",
              "      <td>103.0</td>\n",
              "      <td>-16.0</td>\n",
              "      <td>...</td>\n",
              "      <td>0.0</td>\n",
              "      <td>13.1</td>\n",
              "      <td>-3.6</td>\n",
              "      <td>0.0</td>\n",
              "      <td>0.0</td>\n",
              "      <td>-0.1</td>\n",
              "      <td>3.9</td>\n",
              "      <td>25.4</td>\n",
              "      <td>62.8</td>\n",
              "      <td>7.0</td>\n",
              "    </tr>\n",
              "  </tbody>\n",
              "</table>\n",
              "<p>5 rows × 279 columns</p>\n",
              "</div>\n",
              "      <button class=\"colab-df-convert\" onclick=\"convertToInteractive('df-27fae6e1-ae2d-40a6-adf8-f5b7e51043e0')\"\n",
              "              title=\"Convert this dataframe to an interactive table.\"\n",
              "              style=\"display:none;\">\n",
              "        \n",
              "  <svg xmlns=\"http://www.w3.org/2000/svg\" height=\"24px\"viewBox=\"0 0 24 24\"\n",
              "       width=\"24px\">\n",
              "    <path d=\"M0 0h24v24H0V0z\" fill=\"none\"/>\n",
              "    <path d=\"M18.56 5.44l.94 2.06.94-2.06 2.06-.94-2.06-.94-.94-2.06-.94 2.06-2.06.94zm-11 1L8.5 8.5l.94-2.06 2.06-.94-2.06-.94L8.5 2.5l-.94 2.06-2.06.94zm10 10l.94 2.06.94-2.06 2.06-.94-2.06-.94-.94-2.06-.94 2.06-2.06.94z\"/><path d=\"M17.41 7.96l-1.37-1.37c-.4-.4-.92-.59-1.43-.59-.52 0-1.04.2-1.43.59L10.3 9.45l-7.72 7.72c-.78.78-.78 2.05 0 2.83L4 21.41c.39.39.9.59 1.41.59.51 0 1.02-.2 1.41-.59l7.78-7.78 2.81-2.81c.8-.78.8-2.07 0-2.86zM5.41 20L4 18.59l7.72-7.72 1.47 1.35L5.41 20z\"/>\n",
              "  </svg>\n",
              "      </button>\n",
              "      \n",
              "  <style>\n",
              "    .colab-df-container {\n",
              "      display:flex;\n",
              "      flex-wrap:wrap;\n",
              "      gap: 12px;\n",
              "    }\n",
              "\n",
              "    .colab-df-convert {\n",
              "      background-color: #E8F0FE;\n",
              "      border: none;\n",
              "      border-radius: 50%;\n",
              "      cursor: pointer;\n",
              "      display: none;\n",
              "      fill: #1967D2;\n",
              "      height: 32px;\n",
              "      padding: 0 0 0 0;\n",
              "      width: 32px;\n",
              "    }\n",
              "\n",
              "    .colab-df-convert:hover {\n",
              "      background-color: #E2EBFA;\n",
              "      box-shadow: 0px 1px 2px rgba(60, 64, 67, 0.3), 0px 1px 3px 1px rgba(60, 64, 67, 0.15);\n",
              "      fill: #174EA6;\n",
              "    }\n",
              "\n",
              "    [theme=dark] .colab-df-convert {\n",
              "      background-color: #3B4455;\n",
              "      fill: #D2E3FC;\n",
              "    }\n",
              "\n",
              "    [theme=dark] .colab-df-convert:hover {\n",
              "      background-color: #434B5C;\n",
              "      box-shadow: 0px 1px 3px 1px rgba(0, 0, 0, 0.15);\n",
              "      filter: drop-shadow(0px 1px 2px rgba(0, 0, 0, 0.3));\n",
              "      fill: #FFFFFF;\n",
              "    }\n",
              "  </style>\n",
              "\n",
              "      <script>\n",
              "        const buttonEl =\n",
              "          document.querySelector('#df-27fae6e1-ae2d-40a6-adf8-f5b7e51043e0 button.colab-df-convert');\n",
              "        buttonEl.style.display =\n",
              "          google.colab.kernel.accessAllowed ? 'block' : 'none';\n",
              "\n",
              "        async function convertToInteractive(key) {\n",
              "          const element = document.querySelector('#df-27fae6e1-ae2d-40a6-adf8-f5b7e51043e0');\n",
              "          const dataTable =\n",
              "            await google.colab.kernel.invokeFunction('convertToInteractive',\n",
              "                                                     [key], {});\n",
              "          if (!dataTable) return;\n",
              "\n",
              "          const docLinkHtml = 'Like what you see? Visit the ' +\n",
              "            '<a target=\"_blank\" href=https://colab.research.google.com/notebooks/data_table.ipynb>data table notebook</a>'\n",
              "            + ' to learn more about interactive tables.';\n",
              "          element.innerHTML = '';\n",
              "          dataTable['output_type'] = 'display_data';\n",
              "          await google.colab.output.renderOutput(dataTable, element);\n",
              "          const docLink = document.createElement('div');\n",
              "          docLink.innerHTML = docLinkHtml;\n",
              "          element.appendChild(docLink);\n",
              "        }\n",
              "      </script>\n",
              "    </div>\n",
              "  </div>\n",
              "  "
            ]
          },
          "metadata": {},
          "execution_count": 25
        }
      ],
      "source": [
        "#Memberikan nama kolom pada dataset\n",
        "\n",
        "new_df.columns=final_df_columns\n",
        "new_df.to_csv(\"new data.csv\")\n",
        "new_df.head()"
      ]
    },
    {
      "cell_type": "markdown",
      "metadata": {
        "id": "dUUsaOgz8JZ9"
      },
      "source": [
        "Setelah dataframe benar-benar dibersihkan dan diproses,kita akan menghapus atribut target dan menyimpan dataframe akhir kita."
      ]
    },
    {
      "cell_type": "code",
      "execution_count": null,
      "metadata": {
        "id": "rg7Uf9bG8JZ9"
      },
      "outputs": [],
      "source": [
        "target=new_df[\"class\"]\n",
        "\n",
        "final_df = new_df.drop(columns =\"class\")"
      ]
    },
    {
      "cell_type": "code",
      "execution_count": null,
      "metadata": {
        "colab": {
          "base_uri": "https://localhost:8080/"
        },
        "id": "N-PlnyUp1JcU",
        "outputId": "4b86e05e-0d24-4a60-cd4a-2a5f7485d8ff"
      },
      "outputs": [
        {
          "output_type": "execute_result",
          "data": {
            "text/plain": [
              "(452, 278)"
            ]
          },
          "metadata": {},
          "execution_count": 27
        }
      ],
      "source": [
        "final_df.shape"
      ]
    },
    {
      "cell_type": "markdown",
      "metadata": {
        "id": "kl_IqSwy1Jca"
      },
      "source": [
        "# **2. Exploratory Data Analysis (EDA)**\n",
        "\n",
        "Menganalisis kumpulan data untuk meringkas karakteristik utama"
      ]
    },
    {
      "cell_type": "code",
      "execution_count": null,
      "metadata": {
        "id": "ziL8KWK81Jcc"
      },
      "outputs": [],
      "source": [
        "#Membuat daftar dari semua jenis aritmia yang sesuai dengan label kelas mereka.\n",
        "#membuat daftarnya dalam class_names\n",
        "\n",
        "class_names = [\"Normal\", \"Ischemic changes (CAD)\", \"Old Anterior Myocardial Infraction\", \"Old Inferior Myocardial Infraction\",\n",
        "               \"Sinus tachycardy\", \"Sinus bradycardy\", \"Ventricular Premature Contraction (PVC)\",\"Supraventricular Premature Contraction\",\n",
        "               \"Left Boundle branch block\", \"Right boundle branch block\", \"1.Degree AtrioVentricular block\", \"2.Degree AV block\",\n",
        "               \"3.Degree AV block\", \"Left Ventricule hypertrophy\", \"Atrial Fibrillation or Flutter\", \"Others\"]"
      ]
    },
    {
      "cell_type": "markdown",
      "metadata": {
        "id": "KSxfo2bv1Jce"
      },
      "source": [
        "### Menganalisis kumpulan data dan memeriksa berapa banyak contoh yang kita miliki untuk setiap kelasnya:\n",
        "kita harus mengurutkan dataset kita sehubungan dengan atribut kelas untuk menghitung jumlah instance yang tersedia untuk setiap kelas"
      ]
    },
    {
      "cell_type": "code",
      "execution_count": null,
      "metadata": {
        "id": "P85a0KIG1Jci"
      },
      "outputs": [],
      "source": [
        "t=new_df.sort_values(by=[\"class\"])"
      ]
    },
    {
      "cell_type": "code",
      "source": [
        "# Menghitung jumlah instance setiap class\n",
        "class_counts = t['class'].value_counts(sort=False).tolist()\n",
        "\n",
        "# Menampilkan hasil\n",
        "print(class_counts)"
      ],
      "metadata": {
        "colab": {
          "base_uri": "https://localhost:8080/"
        },
        "id": "WfOiyT47JdBs",
        "outputId": "fc8eb52b-7642-4255-80ad-17e7372d5739"
      },
      "execution_count": null,
      "outputs": [
        {
          "output_type": "stream",
          "name": "stdout",
          "text": [
            "[245, 44, 15, 15, 13, 25, 3, 2, 9, 50, 4, 5, 22]\n"
          ]
        }
      ]
    },
    {
      "cell_type": "code",
      "execution_count": null,
      "metadata": {
        "colab": {
          "base_uri": "https://localhost:8080/",
          "height": 449
        },
        "id": "XEn3DzhX8JaC",
        "outputId": "1e164b93-50d0-4846-d4e4-0dfa6538653a"
      },
      "outputs": [
        {
          "output_type": "display_data",
          "data": {
            "text/plain": [
              "<Figure size 640x480 with 1 Axes>"
            ],
            "image/png": "[encoded data removed]"
          },
          "metadata": {}
        }
      ],
      "source": [
        "sns.countplot(x ='class', data = new_df, color='lightgreen')\n",
        "plt.show()"
      ]
    },
    {
      "cell_type": "code",
      "execution_count": null,
      "metadata": {
        "colab": {
          "base_uri": "https://localhost:8080/"
        },
        "id": "tI_4FV7P1Jcn",
        "outputId": "f3a64d21-31fd-4fb3-e9dd-2dad2ab45a2b"
      },
      "outputs": [
        {
          "output_type": "stream",
          "name": "stdout",
          "text": [
            "[245, 44, 15, 15, 13, 25, 3, 2, 9, 50, 0, 0, 0, 4, 5, 22]\n"
          ]
        }
      ],
      "source": [
        "# Menghitung jumlah instance setiap class\n",
        "values = class_counts[:10] + [0, 0, 0] + class_counts[10:13]\n",
        "\n",
        "# Menampilkan hasil\n",
        "print(values)"
      ]
    },
    {
      "cell_type": "markdown",
      "metadata": {
        "id": "RmfK89wRFShA"
      },
      "source": [
        "Hasil temuan kami menunjukkan bahwa dari total 452 contoh, sebanyak 245 contoh merupakan anggota dari kelas A yang mengacu pada orang dengan kondisi \"normal\". Selain itu, kami juga mengidentifikasi adanya 12 jenis aritmia yang berbeda dalam kumpulan data kami, namun terdapat 3 jenis aritmia lainnya yang tidak terdapat dalam kumpulan data tersebut."
      ]
    },
    {
      "cell_type": "markdown",
      "metadata": {
        "id": "IjqBY48R1Jc-"
      },
      "source": [
        "### Handling Outliers & Data Visualization"
      ]
    },
    {
      "cell_type": "code",
      "execution_count": null,
      "metadata": {
        "colab": {
          "base_uri": "https://localhost:8080/",
          "height": 1000
        },
        "id": "vs0EfHJd1JdA",
        "outputId": "2365f3c1-a8c1-4b05-a6ad-0564c98dd1c6"
      },
      "outputs": [
        {
          "output_type": "execute_result",
          "data": {
            "text/plain": [
              "<seaborn.axisgrid.PairGrid at 0x7f39abee7f70>"
            ]
          },
          "metadata": {},
          "execution_count": 33
        },
        {
          "output_type": "display_data",
          "data": {
            "text/plain": [
              "<Figure size 1322x1250 with 25 Axes>"
            ],
            "image/png": "[encoded data removed]"
          },
          "metadata": {}
        }
      ],
      "source": [
        "#Melihat hubungan antar variabel/atribut dan adanya outliers\n",
        "\n",
        "g = sns.PairGrid(final_df, vars=['Age', 'Sex', 'Height', 'Weight', 'QRS'], hue='Sex', palette='Set1')\n",
        "g.map(plt.scatter, alpha=0.8)\n",
        "g.add_legend()"
      ]
    },
    {
      "cell_type": "markdown",
      "metadata": {
        "id": "wsWpYkcw1JdC"
      },
      "source": [
        " Berdasarkan plot scatter, terdapat beberapa data outlier pada atribut 'height' dan 'weight'."
      ]
    },
    {
      "cell_type": "markdown",
      "source": [
        "Periksa nilai maksimum dua atribut tersebut lebih lanjut"
      ],
      "metadata": {
        "id": "2CDQ7vc1LptU"
      }
    },
    {
      "cell_type": "code",
      "execution_count": null,
      "metadata": {
        "colab": {
          "base_uri": "https://localhost:8080/"
        },
        "id": "HUKGpOCX1JdC",
        "outputId": "b88bd117-cba0-430f-adb4-3a268e2b53cd"
      },
      "outputs": [
        {
          "output_type": "stream",
          "name": "stdout",
          "text": [
            "[780.0, 608.0, 190.0, 190.0, 190.0, 188.0, 186.0, 186.0, 186.0, 185.0]\n"
          ]
        }
      ],
      "source": [
        "# sorted(final_df['Height'], reverse=True)[:10]\n",
        "\n",
        "height_list = sorted(final_df['Height'], reverse=True)[:10]\n",
        "output = []\n",
        "for height in height_list:\n",
        "    output.append(height)\n",
        "print(output)\n"
      ]
    },
    {
      "cell_type": "markdown",
      "metadata": {
        "id": "NdnzTYov1JdE"
      },
      "source": [
        "Karena orang tertinggi yang pernah hidup di dunia menurut rekor adalah Robert Wadlow : **272** cm, maka **780** dan **608** perlu diganti dengan **180** cm dan **108** cm"
      ]
    },
    {
      "cell_type": "code",
      "execution_count": null,
      "metadata": {
        "id": "ELjee2jz1JdF"
      },
      "outputs": [],
      "source": [
        "final_df['Height']=final_df['Height'].replace(608,108)\n",
        "final_df['Height']=final_df['Height'].replace(780,180)"
      ]
    },
    {
      "cell_type": "code",
      "execution_count": null,
      "metadata": {
        "colab": {
          "base_uri": "https://localhost:8080/"
        },
        "id": "3OEvcVRc1JdH",
        "outputId": "0d8608a5-94b3-47c4-a9c7-1411ad066358"
      },
      "outputs": [
        {
          "output_type": "stream",
          "name": "stdout",
          "text": [
            "[176.0, 124.0, 110.0, 106.0, 105.0, 105.0, 104.0, 104.0, 100.0, 98.0]\n"
          ]
        }
      ],
      "source": [
        "weight_list = sorted(final_df['Weight'], reverse=True)[:10]\n",
        "output = []\n",
        "for weight in weight_list:\n",
        "    output.append(weight)\n",
        "print(output)\n"
      ]
    },
    {
      "cell_type": "markdown",
      "metadata": {
        "id": "Jr6MJ5Z51JdJ"
      },
      "source": [
        "Karena orang terberat di dunia menurut rekor adalah Jon Brower : 635 kg, maka **176 kg** adalah berat yang masih mungkin, jadi kita tidak akan menggantinya."
      ]
    },
    {
      "cell_type": "code",
      "execution_count": null,
      "metadata": {
        "colab": {
          "base_uri": "https://localhost:8080/",
          "height": 430
        },
        "id": "5xdaZN9P1JdM",
        "outputId": "7dd10c0f-592e-439c-aceb-659aff45156e"
      },
      "outputs": [
        {
          "output_type": "display_data",
          "data": {
            "text/plain": [
              "<Figure size 640x480 with 1 Axes>"
            ],
            "image/png": "[encoded data removed]"
          },
          "metadata": {}
        }
      ],
      "source": [
        "sns.boxplot(data=final_df[[\"QRS_Dur\",\"P-R_Int\",\"Q-T_Int\",\"T_Int\",\"P_Int\"]]);\n"
      ]
    },
    {
      "cell_type": "markdown",
      "metadata": {
        "id": "rxS-LUGN1JdO"
      },
      "source": [
        "Interval PR adalah periode, diukur dalam milidetik, yang memanjang dari awal gelombang P hingga awal kompleks QRS; biasanya berdurasi antara 120 dan 200 ms."
      ]
    },
    {
      "cell_type": "code",
      "execution_count": null,
      "metadata": {
        "colab": {
          "base_uri": "https://localhost:8080/",
          "height": 475
        },
        "id": "xdg4hAfB8JaF",
        "outputId": "899cb938-9ce5-44f4-b9f1-710cd92bea15"
      },
      "outputs": [
        {
          "output_type": "display_data",
          "data": {
            "text/plain": [
              "<Figure size 640x480 with 1 Axes>"
            ],
            "image/png": "[encoded data removed]"
          },
          "metadata": {}
        }
      ],
      "source": [
        "#data head\n",
        "\n",
        "final_df['P-R_Int'].value_counts().sort_index().head().plot(kind='bar', color=['red', 'green', 'blue', 'yellow', 'orange'])\n",
        "plt.xlabel('P-R Interval Values')\n",
        "plt.ylabel('Count');"
      ]
    },
    {
      "cell_type": "code",
      "execution_count": null,
      "metadata": {
        "colab": {
          "base_uri": "https://localhost:8080/",
          "height": 475
        },
        "id": "3n3vuqvz8JaF",
        "outputId": "daa1ea2b-ed88-470e-c158-44a25364b98a"
      },
      "outputs": [
        {
          "output_type": "display_data",
          "data": {
            "text/plain": [
              "<Figure size 640x480 with 1 Axes>"
            ],
            "image/png": "[encoded data removed]"
          },
          "metadata": {}
        }
      ],
      "source": [
        "#data tail\n",
        "\n",
        "final_df['P-R_Int'].value_counts().sort_index().tail().plot(kind='bar', color=['grey', 'lightgreen', 'skyblue', 'yellow', 'pink'])\n",
        "plt.xlabel('P-R Interval Values')\n",
        "plt.ylabel('Count');"
      ]
    },
    {
      "cell_type": "code",
      "execution_count": null,
      "metadata": {
        "colab": {
          "base_uri": "https://localhost:8080/",
          "height": 430
        },
        "id": "-PSrUf3A8JaG",
        "outputId": "75471d97-9c1e-4faa-8af7-355f9f8c81b0"
      },
      "outputs": [
        {
          "output_type": "display_data",
          "data": {
            "text/plain": [
              "<Figure size 640x480 with 1 Axes>"
            ],
            "image/png": "[encoded data removed]"
          },
          "metadata": {}
        }
      ],
      "source": [
        "sns.boxplot(data=final_df[[\"QRS\",\"T\",\"P\",\"J\",\"Heart_Rate\"]], color=\"green\");"
      ]
    },
    {
      "cell_type": "code",
      "execution_count": null,
      "metadata": {
        "colab": {
          "base_uri": "https://localhost:8080/",
          "height": 430
        },
        "id": "EwBtkOJa8JaG",
        "outputId": "f0a393e6-0dce-4be5-dce6-ebc911742dfc"
      },
      "outputs": [
        {
          "output_type": "display_data",
          "data": {
            "text/plain": [
              "<Figure size 640x480 with 1 Axes>"
            ],
            "image/png": "[encoded data removed]"
          },
          "metadata": {}
        }
      ],
      "source": [
        "sns.boxplot(data=final_df[[\"R'_Wave\",\"S'_Wave\",\"Int_Def\",\"Rag_R_Nom\"]], color=\"yellow\");"
      ]
    },
    {
      "cell_type": "markdown",
      "metadata": {
        "id": "ivaH5gV21Jdh"
      },
      "source": [
        "*S*'Wave memiliki angka 0 yang bukan merupakan NaN. Jadi, kita tidak dapat menganggapnya sebagai outlier."
      ]
    },
    {
      "cell_type": "code",
      "execution_count": null,
      "metadata": {
        "colab": {
          "base_uri": "https://localhost:8080/"
        },
        "id": "fy9ZTcx41Jdj",
        "outputId": "d2dc0174-6553-49c0-efea-8d637e9d4911"
      },
      "outputs": [
        {
          "output_type": "execute_result",
          "data": {
            "text/plain": [
              "0.0    452\n",
              "Name: S'_Wave, dtype: int64"
            ]
          },
          "metadata": {},
          "execution_count": 42
        }
      ],
      "source": [
        "final_df[\"S'_Wave\"].value_counts().sort_index(ascending=False)"
      ]
    },
    {
      "cell_type": "code",
      "execution_count": null,
      "metadata": {
        "colab": {
          "base_uri": "https://localhost:8080/"
        },
        "id": "EPTic09i1Jd_",
        "outputId": "2d571454-9282-4e67-a659-40c2b1eb1ce8"
      },
      "outputs": [
        {
          "output_type": "execute_result",
          "data": {
            "text/plain": [
              "216.0     1\n",
              "112.0     1\n",
              "84.0      1\n",
              "72.0      1\n",
              "68.0      1\n",
              "64.0      1\n",
              "48.0      6\n",
              "44.0      6\n",
              "40.0     13\n",
              "36.0     36\n",
              "32.0     63\n",
              "28.0     81\n",
              "24.0     88\n",
              "20.0     57\n",
              "16.0     13\n",
              "12.0      4\n",
              "0.0      79\n",
              "Name: V101, dtype: int64"
            ]
          },
          "metadata": {},
          "execution_count": 43
        }
      ],
      "source": [
        "final_df[\"V101\"].value_counts().sort_index(ascending=False)"
      ]
    },
    {
      "cell_type": "markdown",
      "metadata": {
        "id": "I0Itx4mM1JeC"
      },
      "source": [
        "\n",
        "V101 memiliki outlier, tetapi ketika kita melihat set lainnya (V201, V301, V501), kita dapat melihat bahwa ada outlier yang serupa. Karena data kita sangat condong, kita tidak bisa menyimpulkan bahwa outlier-outlier ini harus dihapus."
      ]
    },
    {
      "cell_type": "code",
      "execution_count": null,
      "metadata": {
        "colab": {
          "base_uri": "https://localhost:8080/"
        },
        "id": "qlbDJN1w1JeC",
        "outputId": "f2012b64-fe6d-402a-f5ea-69337270dc5c"
      },
      "outputs": [
        {
          "output_type": "execute_result",
          "data": {
            "text/plain": [
              "216.0     1\n",
              "136.0     1\n",
              "84.0      1\n",
              "72.0      1\n",
              "60.0      5\n",
              "56.0      4\n",
              "52.0     12\n",
              "48.0     19\n",
              "44.0     53\n",
              "40.0     68\n",
              "36.0     74\n",
              "32.0     69\n",
              "28.0     48\n",
              "24.0     39\n",
              "20.0     15\n",
              "16.0      6\n",
              "12.0      2\n",
              "0.0      34\n",
              "Name: V201, dtype: int64"
            ]
          },
          "metadata": {},
          "execution_count": 44
        }
      ],
      "source": [
        "final_df[\"V201\"].value_counts().sort_index(ascending=False)"
      ]
    },
    {
      "cell_type": "code",
      "execution_count": null,
      "metadata": {
        "colab": {
          "base_uri": "https://localhost:8080/"
        },
        "id": "_abC3Bmk1JeD",
        "outputId": "359ef636-0ccd-43e1-9d1e-26c0deb8a990"
      },
      "outputs": [
        {
          "output_type": "execute_result",
          "data": {
            "text/plain": [
              "132.0     1\n",
              "88.0      2\n",
              "76.0      2\n",
              "72.0      1\n",
              "68.0      2\n",
              "64.0      3\n",
              "60.0     16\n",
              "56.0     26\n",
              "52.0     57\n",
              "48.0     68\n",
              "44.0     76\n",
              "40.0     74\n",
              "36.0     49\n",
              "32.0     32\n",
              "28.0     13\n",
              "24.0      4\n",
              "20.0      6\n",
              "16.0      1\n",
              "0.0      19\n",
              "Name: V301, dtype: int64"
            ]
          },
          "metadata": {},
          "execution_count": 45
        }
      ],
      "source": [
        "final_df[\"V301\"].value_counts().sort_index(ascending=False)"
      ]
    },
    {
      "cell_type": "code",
      "execution_count": null,
      "metadata": {
        "colab": {
          "base_uri": "https://localhost:8080/"
        },
        "id": "YtmGtJa-1JeG",
        "outputId": "4a9e4a33-d751-494b-9c49-771d303bda35"
      },
      "outputs": [
        {
          "output_type": "execute_result",
          "data": {
            "text/plain": [
              "136.0      1\n",
              "120.0      2\n",
              "116.0      1\n",
              "108.0      1\n",
              "96.0       1\n",
              "92.0       1\n",
              "84.0       1\n",
              "76.0       2\n",
              "72.0       3\n",
              "68.0       4\n",
              "64.0       5\n",
              "60.0       9\n",
              "56.0      22\n",
              "52.0      67\n",
              "48.0     105\n",
              "44.0     104\n",
              "40.0      73\n",
              "36.0      29\n",
              "32.0      12\n",
              "28.0       3\n",
              "24.0       2\n",
              "20.0       1\n",
              "0.0        3\n",
              "Name: V501, dtype: int64"
            ]
          },
          "metadata": {},
          "execution_count": 46
        }
      ],
      "source": [
        "final_df[\"V501\"].value_counts().sort_index(ascending=False)"
      ]
    },
    {
      "cell_type": "markdown",
      "metadata": {
        "id": "l8stuBYb1JeT"
      },
      "source": [
        "Sekarang kita dapat melihat pencilan dalam dua atribut terakhir dari setiap seri (DIII188, DIII189, AVR198, AVR199, AVL208, AVL209, AVF218, AVF219, V2238, V2239, V3248, V3249, V4258, V4259, V5268, V5269, V6278, V6279). Dengan asumsi yang sama bahwa pencilan ini mungkin termasuk dalam kelas dengan sedikit contoh."
      ]
    },
    {
      "cell_type": "code",
      "execution_count": null,
      "metadata": {
        "colab": {
          "base_uri": "https://localhost:8080/",
          "height": 470
        },
        "id": "Q4cJ8f4f1JeU",
        "outputId": "fccc08dc-9a65-441f-81e2-2ec3b77e7b35"
      },
      "outputs": [
        {
          "output_type": "display_data",
          "data": {
            "text/plain": [
              "<Figure size 1170x527 with 1 Axes>"
            ],
            "image/png": "[encoded data removed]"
          },
          "metadata": {}
        }
      ],
      "source": [
        "sns.set(rc={'figure.figsize':(11.7,5.27)})\n",
        "sns.boxplot(data=final_df[[\"AVR190\",\"AVR191\",\"AVR192\",\"AVR193\",\"AVR194\",\"AVR195\",\"AVR196\",\"AVR197\",\"AVR198\",\"AVR199\"]]);"
      ]
    },
    {
      "cell_type": "code",
      "execution_count": null,
      "metadata": {
        "colab": {
          "base_uri": "https://localhost:8080/",
          "height": 470
        },
        "id": "n9GSIdo11JeW",
        "outputId": "f8617ffe-7320-40aa-f05f-313231e795ca"
      },
      "outputs": [
        {
          "output_type": "display_data",
          "data": {
            "text/plain": [
              "<Figure size 1170x527 with 1 Axes>"
            ],
            "image/png": "[encoded data removed]"
          },
          "metadata": {}
        }
      ],
      "source": [
        "sns.set(rc={'figure.figsize':(11.7,5.27)})\n",
        "sns.boxplot(data=final_df[[\"AVL200\",\"AVL201\",\"AVL202\",\"AVL203\",\"AVL204\",\"AVL205\",\"AVL206\",\"AVL207\",\"AVL208\",\"AVL209\"]]);"
      ]
    },
    {
      "cell_type": "code",
      "execution_count": null,
      "metadata": {
        "colab": {
          "base_uri": "https://localhost:8080/",
          "height": 470
        },
        "id": "N9d4I_9F1JeX",
        "outputId": "a4bf3160-799b-4fc2-f406-9c90efa4bf08"
      },
      "outputs": [
        {
          "output_type": "display_data",
          "data": {
            "text/plain": [
              "<Figure size 1170x527 with 1 Axes>"
            ],
            "image/png": "[encoded data removed]"
          },
          "metadata": {}
        }
      ],
      "source": [
        "sns.set(rc={'figure.figsize':(11.7,5.27)})\n",
        "sns.boxplot(data=final_df[[\"AVF210\",\"AVF211\",\"AVF212\",\"AVF213\",\"AVF214\",\"AVF215\",\"AVF216\",\"AVF217\",\"AVF218\",\"AVF219\"]]);"
      ]
    },
    {
      "cell_type": "code",
      "execution_count": null,
      "metadata": {
        "colab": {
          "base_uri": "https://localhost:8080/"
        },
        "id": "6-cDAvG-1JfT",
        "outputId": "fed46b82-1d2f-42dc-f66a-a7c92166edcf"
      },
      "outputs": [
        {
          "output_type": "stream",
          "name": "stdout",
          "text": [
            "[-9.23812218e-02 -1.78080037e-01 -3.46671442e-02 -9.01507390e-02\n",
            "  3.23878728e-01 -9.99540161e-02  2.83049762e-02  9.76253981e-02\n",
            " -1.22002504e-01  1.95854526e-02 -1.68648870e-04  1.90644217e-01\n",
            " -3.08114850e-02  3.33672764e-02  3.96491896e-03  4.26738126e-02\n",
            "  1.95198200e-01  6.39992472e-02             nan  4.27635327e-02\n",
            " -2.01150248e-02  7.67517615e-03 -3.55694451e-02  3.20969797e-02\n",
            "  3.20969797e-02  8.30559434e-02 -3.61168680e-03  4.83674292e-02\n",
            "  1.83082712e-01 -1.05049431e-02  6.65428889e-02  6.77662940e-02\n",
            "  4.17574601e-02  7.98435069e-02 -2.01150248e-02  1.69531020e-02\n",
            " -3.60504699e-02 -6.66334979e-04 -2.36687153e-02  1.16515578e-01\n",
            "  8.16735582e-02  1.44307782e-02 -3.20137575e-02  8.34076694e-02\n",
            " -3.08114850e-02  5.14341059e-02 -3.08114850e-02 -8.40208668e-02\n",
            " -1.15446555e-02 -5.76271452e-03  2.10381327e-02  1.73243101e-01\n",
            "  2.54790200e-03  1.09423863e-01 -3.08114850e-02  1.41103081e-01\n",
            " -6.43991926e-02  3.20969797e-02 -3.60504699e-02 -5.76271452e-03\n",
            " -5.76271452e-03  4.01270853e-02 -9.51325536e-03  8.62805101e-02\n",
            "  1.27209954e-01  6.16984103e-02             nan  1.52533990e-01\n",
            "             nan  7.60606402e-02 -3.08114850e-02 -9.41856455e-03\n",
            "  2.21830437e-03  1.19743559e-02  6.94395981e-02  3.00259257e-02\n",
            "  1.43283685e-01  5.76478469e-03  9.01134869e-02  1.07405670e-01\n",
            "  3.20969797e-02  1.02461952e-03             nan -3.08114850e-02\n",
            " -3.08114850e-02  5.47601969e-02  6.15957389e-02  1.20725739e-01\n",
            " -1.18167887e-01  3.68875604e-01 -2.41468439e-02  3.13982499e-01\n",
            "  8.40764742e-03  1.74345647e-01  1.32965490e-02  1.32965490e-02\n",
            " -2.59595293e-02  3.82498115e-02  7.54212108e-02  4.02835784e-02\n",
            " -1.04802605e-02  2.82523391e-01  9.85924790e-02  1.07254510e-01\n",
            " -2.80177282e-03  1.04520372e-01  1.21710657e-01  1.15252587e-01\n",
            " -2.96323091e-02 -1.68648870e-04  6.60135274e-02 -2.59005587e-02\n",
            "  1.40502408e-01  1.16503625e-01  9.08650874e-02 -7.10618888e-04\n",
            " -3.15900299e-02  4.72408574e-02  1.32194508e-01  9.37881579e-02\n",
            " -3.49177539e-02 -2.59595293e-02  4.11421737e-02  2.08403220e-04\n",
            "  1.70669615e-01  1.15369158e-02  4.93696439e-02 -7.22179337e-03\n",
            " -1.33346534e-02  1.04145773e-01             nan             nan\n",
            " -2.09065922e-02  5.70033179e-02  1.15436522e-01  7.01651905e-02\n",
            "  1.01877932e-01  4.21390928e-02             nan  1.03193252e-01\n",
            "             nan  9.50584501e-02             nan -3.08114850e-02\n",
            "             nan -2.87284109e-02  9.75462789e-02  6.36924587e-02\n",
            "  1.30055964e-01 -3.65958306e-02             nan  1.41505551e-01\n",
            " -3.08114850e-02  1.27789569e-03 -1.33346534e-02             nan\n",
            "             nan  1.72850920e-02 -2.00524860e-02 -9.03327100e-03\n",
            " -1.35180130e-01 -1.97554501e-01  1.07901579e-01             nan\n",
            " -1.05921951e-01 -6.72553225e-02 -1.02058765e-01 -1.71762707e-01\n",
            " -2.54345726e-03 -3.78137539e-02  4.89226443e-03 -1.58536214e-01\n",
            " -4.42099728e-03 -5.86568608e-02 -6.83466737e-02  5.64189125e-03\n",
            " -6.37805443e-02 -3.51255618e-02 -3.59550977e-03  1.43428758e-02\n",
            "  1.30359938e-01 -4.20653173e-02  3.90143500e-03  2.50605654e-02\n",
            " -8.74656504e-03  6.89710671e-02  5.00846798e-02  1.04976063e-01\n",
            "  4.85126664e-02  7.66276154e-02  1.65693257e-01 -3.06138176e-03\n",
            "  1.22928173e-01  3.08114850e-02  9.31930303e-02  3.77147563e-02\n",
            "  1.14137877e-01  1.25873240e-01 -7.81911502e-03 -1.38023671e-02\n",
            " -5.68445025e-02 -1.42730678e-01  6.00241993e-02             nan\n",
            " -2.87341746e-02 -8.49412178e-02 -6.51453141e-02 -1.34656794e-01\n",
            " -4.77386153e-02 -4.89496873e-02  7.06530907e-02 -9.93289932e-02\n",
            "  1.35415997e-02 -9.35100948e-02 -4.59119818e-02  3.37566701e-02\n",
            " -3.26766118e-02 -5.52098645e-04  6.94466318e-02 -2.56278593e-02\n",
            "  1.41273961e-01  9.78392462e-03  2.35488426e-01  2.49754659e-02\n",
            " -4.22246326e-02  2.29694987e-02  6.83389267e-02  1.28489868e-01\n",
            "  1.19809260e-01 -9.27914558e-02  2.66138922e-02 -4.23710548e-02\n",
            "  2.18811416e-01 -9.39122715e-02 -3.79381660e-02 -2.13866537e-02\n",
            " -1.08902188e-01 -9.45432486e-02  1.51781561e-01 -2.90002767e-02\n",
            "  6.01905939e-02 -1.89458038e-01  9.55972551e-02 -7.10324386e-02\n",
            "  4.24733004e-02  8.72420403e-02 -1.59611689e-01 -4.46742653e-02\n",
            "  1.24822829e-01 -7.40099741e-03  9.53309571e-02 -1.50609932e-01\n",
            "  3.04286463e-02 -4.73402930e-02 -8.68730068e-02  1.08922991e-01\n",
            " -8.33957097e-02  3.41381321e-02  2.04870406e-02 -1.62153153e-01\n",
            "  7.96689001e-02 -6.84101110e-02  5.38080797e-02             nan\n",
            " -8.11663795e-02  6.21744575e-02 -1.05802701e-02  5.26170978e-02\n",
            " -6.21293028e-02 -1.64320758e-01  3.61878403e-02 -7.15557917e-02\n",
            " -3.69920743e-02             nan -8.64268780e-02 -3.07975937e-02\n",
            "  3.47646535e-03 -9.27527477e-03]\n"
          ]
        }
      ],
      "source": [
        "#Mencari korelasi dengan fitur target menggunakan korelasi Pearson.\n",
        "\n",
        "target = new_df[\"class\"]\n",
        "pearsoncorr = final_df.corrwith(target, method='pearson')\n",
        "pearsoncorr_values = pearsoncorr.values\n",
        "\n",
        "print(pearsoncorr_values)"
      ]
    },
    {
      "cell_type": "markdown",
      "source": [
        "### Plot atau Diagram tambahan"
      ],
      "metadata": {
        "id": "B8Xv7LXuXZsu"
      }
    },
    {
      "cell_type": "code",
      "source": [
        "final_df"
      ],
      "metadata": {
        "colab": {
          "base_uri": "https://localhost:8080/",
          "height": 423
        },
        "id": "xV4sekE3YIGB",
        "outputId": "089138ac-8a19-4d61-f17e-3d9af87f7da1"
      },
      "execution_count": null,
      "outputs": [
        {
          "output_type": "execute_result",
          "data": {
            "text/plain": [
              "      Age  Sex  Height  Weight  QRS_Dur  P-R_Int  Q-T_Int  T_Int  P_Int   QRS  \\\n",
              "0    75.0  0.0   190.0    80.0     91.0    193.0    371.0  174.0  121.0 -16.0   \n",
              "1    56.0  1.0   165.0    64.0     81.0    174.0    401.0  149.0   39.0  25.0   \n",
              "2    54.0  0.0   172.0    95.0    138.0    163.0    386.0  185.0  102.0  96.0   \n",
              "3    55.0  0.0   175.0    94.0    100.0    202.0    380.0  179.0  143.0  28.0   \n",
              "4    75.0  0.0   190.0    80.0     88.0    181.0    360.0  177.0  103.0 -16.0   \n",
              "..    ...  ...     ...     ...      ...      ...      ...    ...    ...   ...   \n",
              "447  53.0  1.0   160.0    70.0     80.0    199.0    382.0  154.0  117.0 -37.0   \n",
              "448  37.0  0.0   190.0    85.0    100.0    137.0    361.0  201.0   73.0  86.0   \n",
              "449  36.0  0.0   166.0    68.0    108.0    176.0    365.0  194.0  116.0 -85.0   \n",
              "450  32.0  1.0   155.0    55.0     93.0    106.0    386.0  218.0   63.0  54.0   \n",
              "451  78.0  1.0   160.0    70.0     79.0    127.0    364.0  138.0   78.0  28.0   \n",
              "\n",
              "     ...  V6270  V6271  V6272  V6273  V6274  V6275  V6276  V6277  V6278  V6279  \n",
              "0    ...   -0.3    0.0    9.0   -0.9    0.0    0.0    0.9    2.9   23.3   49.4  \n",
              "1    ...   -0.5    0.0    8.5    0.0    0.0    0.0    0.2    2.1   20.4   38.8  \n",
              "2    ...    0.9    0.0    9.5   -2.4    0.0    0.0    0.3    3.4   12.3   49.0  \n",
              "3    ...    0.1    0.0   12.2   -2.2    0.0    0.0    0.4    2.6   34.6   61.6  \n",
              "4    ...   -0.4    0.0   13.1   -3.6    0.0    0.0   -0.1    3.9   25.4   62.8  \n",
              "..   ...    ...    ...    ...    ...    ...    ...    ...    ...    ...    ...  \n",
              "447  ...    0.0    0.0    4.3   -5.0    0.0    0.0    0.7    0.6   -4.4   -0.5  \n",
              "448  ...   -0.5    0.0   15.6   -1.6    0.0    0.0    0.4    2.4   38.0   62.4  \n",
              "449  ...    1.2    0.0   16.3  -28.6    0.0    0.0    1.5    1.0  -44.2  -33.2  \n",
              "450  ...    0.2   -0.4   12.0   -0.7    0.0    0.0    0.5    2.4   25.0   46.6  \n",
              "451  ...   -0.3    0.0   10.4   -1.8    0.0    0.0    0.5    1.6   21.3   32.8  \n",
              "\n",
              "[452 rows x 278 columns]"
            ],
            "text/html": [
              "\n",
              "  <div id=\"df-06756a38-089f-4ceb-ac96-1c650ddce85e\">\n",
              "    <div class=\"colab-df-container\">\n",
              "      <div>\n",
              "<style scoped>\n",
              "    .dataframe tbody tr th:only-of-type {\n",
              "        vertical-align: middle;\n",
              "    }\n",
              "\n",
              "    .dataframe tbody tr th {\n",
              "        vertical-align: top;\n",
              "    }\n",
              "\n",
              "    .dataframe thead th {\n",
              "        text-align: right;\n",
              "    }\n",
              "</style>\n",
              "<table border=\"1\" class=\"dataframe\">\n",
              "  <thead>\n",
              "    <tr style=\"text-align: right;\">\n",
              "      <th></th>\n",
              "      <th>Age</th>\n",
              "      <th>Sex</th>\n",
              "      <th>Height</th>\n",
              "      <th>Weight</th>\n",
              "      <th>QRS_Dur</th>\n",
              "      <th>P-R_Int</th>\n",
              "      <th>Q-T_Int</th>\n",
              "      <th>T_Int</th>\n",
              "      <th>P_Int</th>\n",
              "      <th>QRS</th>\n",
              "      <th>...</th>\n",
              "      <th>V6270</th>\n",
              "      <th>V6271</th>\n",
              "      <th>V6272</th>\n",
              "      <th>V6273</th>\n",
              "      <th>V6274</th>\n",
              "      <th>V6275</th>\n",
              "      <th>V6276</th>\n",
              "      <th>V6277</th>\n",
              "      <th>V6278</th>\n",
              "      <th>V6279</th>\n",
              "    </tr>\n",
              "  </thead>\n",
              "  <tbody>\n",
              "    <tr>\n",
              "      <th>0</th>\n",
              "      <td>75.0</td>\n",
              "      <td>0.0</td>\n",
              "      <td>190.0</td>\n",
              "      <td>80.0</td>\n",
              "      <td>91.0</td>\n",
              "      <td>193.0</td>\n",
              "      <td>371.0</td>\n",
              "      <td>174.0</td>\n",
              "      <td>121.0</td>\n",
              "      <td>-16.0</td>\n",
              "      <td>...</td>\n",
              "      <td>-0.3</td>\n",
              "      <td>0.0</td>\n",
              "      <td>9.0</td>\n",
              "      <td>-0.9</td>\n",
              "      <td>0.0</td>\n",
              "      <td>0.0</td>\n",
              "      <td>0.9</td>\n",
              "      <td>2.9</td>\n",
              "      <td>23.3</td>\n",
              "      <td>49.4</td>\n",
              "    </tr>\n",
              "    <tr>\n",
              "      <th>1</th>\n",
              "      <td>56.0</td>\n",
              "      <td>1.0</td>\n",
              "      <td>165.0</td>\n",
              "      <td>64.0</td>\n",
              "      <td>81.0</td>\n",
              "      <td>174.0</td>\n",
              "      <td>401.0</td>\n",
              "      <td>149.0</td>\n",
              "      <td>39.0</td>\n",
              "      <td>25.0</td>\n",
              "      <td>...</td>\n",
              "      <td>-0.5</td>\n",
              "      <td>0.0</td>\n",
              "      <td>8.5</td>\n",
              "      <td>0.0</td>\n",
              "      <td>0.0</td>\n",
              "      <td>0.0</td>\n",
              "      <td>0.2</td>\n",
              "      <td>2.1</td>\n",
              "      <td>20.4</td>\n",
              "      <td>38.8</td>\n",
              "    </tr>\n",
              "    <tr>\n",
              "      <th>2</th>\n",
              "      <td>54.0</td>\n",
              "      <td>0.0</td>\n",
              "      <td>172.0</td>\n",
              "      <td>95.0</td>\n",
              "      <td>138.0</td>\n",
              "      <td>163.0</td>\n",
              "      <td>386.0</td>\n",
              "      <td>185.0</td>\n",
              "      <td>102.0</td>\n",
              "      <td>96.0</td>\n",
              "      <td>...</td>\n",
              "      <td>0.9</td>\n",
              "      <td>0.0</td>\n",
              "      <td>9.5</td>\n",
              "      <td>-2.4</td>\n",
              "      <td>0.0</td>\n",
              "      <td>0.0</td>\n",
              "      <td>0.3</td>\n",
              "      <td>3.4</td>\n",
              "      <td>12.3</td>\n",
              "      <td>49.0</td>\n",
              "    </tr>\n",
              "    <tr>\n",
              "      <th>3</th>\n",
              "      <td>55.0</td>\n",
              "      <td>0.0</td>\n",
              "      <td>175.0</td>\n",
              "      <td>94.0</td>\n",
              "      <td>100.0</td>\n",
              "      <td>202.0</td>\n",
              "      <td>380.0</td>\n",
              "      <td>179.0</td>\n",
              "      <td>143.0</td>\n",
              "      <td>28.0</td>\n",
              "      <td>...</td>\n",
              "      <td>0.1</td>\n",
              "      <td>0.0</td>\n",
              "      <td>12.2</td>\n",
              "      <td>-2.2</td>\n",
              "      <td>0.0</td>\n",
              "      <td>0.0</td>\n",
              "      <td>0.4</td>\n",
              "      <td>2.6</td>\n",
              "      <td>34.6</td>\n",
              "      <td>61.6</td>\n",
              "    </tr>\n",
              "    <tr>\n",
              "      <th>4</th>\n",
              "      <td>75.0</td>\n",
              "      <td>0.0</td>\n",
              "      <td>190.0</td>\n",
              "      <td>80.0</td>\n",
              "      <td>88.0</td>\n",
              "      <td>181.0</td>\n",
              "      <td>360.0</td>\n",
              "      <td>177.0</td>\n",
              "      <td>103.0</td>\n",
              "      <td>-16.0</td>\n",
              "      <td>...</td>\n",
              "      <td>-0.4</td>\n",
              "      <td>0.0</td>\n",
              "      <td>13.1</td>\n",
              "      <td>-3.6</td>\n",
              "      <td>0.0</td>\n",
              "      <td>0.0</td>\n",
              "      <td>-0.1</td>\n",
              "      <td>3.9</td>\n",
              "      <td>25.4</td>\n",
              "      <td>62.8</td>\n",
              "    </tr>\n",
              "    <tr>\n",
              "      <th>...</th>\n",
              "      <td>...</td>\n",
              "      <td>...</td>\n",
              "      <td>...</td>\n",
              "      <td>...</td>\n",
              "      <td>...</td>\n",
              "      <td>...</td>\n",
              "      <td>...</td>\n",
              "      <td>...</td>\n",
              "      <td>...</td>\n",
              "      <td>...</td>\n",
              "      <td>...</td>\n",
              "      <td>...</td>\n",
              "      <td>...</td>\n",
              "      <td>...</td>\n",
              "      <td>...</td>\n",
              "      <td>...</td>\n",
              "      <td>...</td>\n",
              "      <td>...</td>\n",
              "      <td>...</td>\n",
              "      <td>...</td>\n",
              "      <td>...</td>\n",
              "    </tr>\n",
              "    <tr>\n",
              "      <th>447</th>\n",
              "      <td>53.0</td>\n",
              "      <td>1.0</td>\n",
              "      <td>160.0</td>\n",
              "      <td>70.0</td>\n",
              "      <td>80.0</td>\n",
              "      <td>199.0</td>\n",
              "      <td>382.0</td>\n",
              "      <td>154.0</td>\n",
              "      <td>117.0</td>\n",
              "      <td>-37.0</td>\n",
              "      <td>...</td>\n",
              "      <td>0.0</td>\n",
              "      <td>0.0</td>\n",
              "      <td>4.3</td>\n",
              "      <td>-5.0</td>\n",
              "      <td>0.0</td>\n",
              "      <td>0.0</td>\n",
              "      <td>0.7</td>\n",
              "      <td>0.6</td>\n",
              "      <td>-4.4</td>\n",
              "      <td>-0.5</td>\n",
              "    </tr>\n",
              "    <tr>\n",
              "      <th>448</th>\n",
              "      <td>37.0</td>\n",
              "      <td>0.0</td>\n",
              "      <td>190.0</td>\n",
              "      <td>85.0</td>\n",
              "      <td>100.0</td>\n",
              "      <td>137.0</td>\n",
              "      <td>361.0</td>\n",
              "      <td>201.0</td>\n",
              "      <td>73.0</td>\n",
              "      <td>86.0</td>\n",
              "      <td>...</td>\n",
              "      <td>-0.5</td>\n",
              "      <td>0.0</td>\n",
              "      <td>15.6</td>\n",
              "      <td>-1.6</td>\n",
              "      <td>0.0</td>\n",
              "      <td>0.0</td>\n",
              "      <td>0.4</td>\n",
              "      <td>2.4</td>\n",
              "      <td>38.0</td>\n",
              "      <td>62.4</td>\n",
              "    </tr>\n",
              "    <tr>\n",
              "      <th>449</th>\n",
              "      <td>36.0</td>\n",
              "      <td>0.0</td>\n",
              "      <td>166.0</td>\n",
              "      <td>68.0</td>\n",
              "      <td>108.0</td>\n",
              "      <td>176.0</td>\n",
              "      <td>365.0</td>\n",
              "      <td>194.0</td>\n",
              "      <td>116.0</td>\n",
              "      <td>-85.0</td>\n",
              "      <td>...</td>\n",
              "      <td>1.2</td>\n",
              "      <td>0.0</td>\n",
              "      <td>16.3</td>\n",
              "      <td>-28.6</td>\n",
              "      <td>0.0</td>\n",
              "      <td>0.0</td>\n",
              "      <td>1.5</td>\n",
              "      <td>1.0</td>\n",
              "      <td>-44.2</td>\n",
              "      <td>-33.2</td>\n",
              "    </tr>\n",
              "    <tr>\n",
              "      <th>450</th>\n",
              "      <td>32.0</td>\n",
              "      <td>1.0</td>\n",
              "      <td>155.0</td>\n",
              "      <td>55.0</td>\n",
              "      <td>93.0</td>\n",
              "      <td>106.0</td>\n",
              "      <td>386.0</td>\n",
              "      <td>218.0</td>\n",
              "      <td>63.0</td>\n",
              "      <td>54.0</td>\n",
              "      <td>...</td>\n",
              "      <td>0.2</td>\n",
              "      <td>-0.4</td>\n",
              "      <td>12.0</td>\n",
              "      <td>-0.7</td>\n",
              "      <td>0.0</td>\n",
              "      <td>0.0</td>\n",
              "      <td>0.5</td>\n",
              "      <td>2.4</td>\n",
              "      <td>25.0</td>\n",
              "      <td>46.6</td>\n",
              "    </tr>\n",
              "    <tr>\n",
              "      <th>451</th>\n",
              "      <td>78.0</td>\n",
              "      <td>1.0</td>\n",
              "      <td>160.0</td>\n",
              "      <td>70.0</td>\n",
              "      <td>79.0</td>\n",
              "      <td>127.0</td>\n",
              "      <td>364.0</td>\n",
              "      <td>138.0</td>\n",
              "      <td>78.0</td>\n",
              "      <td>28.0</td>\n",
              "      <td>...</td>\n",
              "      <td>-0.3</td>\n",
              "      <td>0.0</td>\n",
              "      <td>10.4</td>\n",
              "      <td>-1.8</td>\n",
              "      <td>0.0</td>\n",
              "      <td>0.0</td>\n",
              "      <td>0.5</td>\n",
              "      <td>1.6</td>\n",
              "      <td>21.3</td>\n",
              "      <td>32.8</td>\n",
              "    </tr>\n",
              "  </tbody>\n",
              "</table>\n",
              "<p>452 rows × 278 columns</p>\n",
              "</div>\n",
              "      <button class=\"colab-df-convert\" onclick=\"convertToInteractive('df-06756a38-089f-4ceb-ac96-1c650ddce85e')\"\n",
              "              title=\"Convert this dataframe to an interactive table.\"\n",
              "              style=\"display:none;\">\n",
              "        \n",
              "  <svg xmlns=\"http://www.w3.org/2000/svg\" height=\"24px\"viewBox=\"0 0 24 24\"\n",
              "       width=\"24px\">\n",
              "    <path d=\"M0 0h24v24H0V0z\" fill=\"none\"/>\n",
              "    <path d=\"M18.56 5.44l.94 2.06.94-2.06 2.06-.94-2.06-.94-.94-2.06-.94 2.06-2.06.94zm-11 1L8.5 8.5l.94-2.06 2.06-.94-2.06-.94L8.5 2.5l-.94 2.06-2.06.94zm10 10l.94 2.06.94-2.06 2.06-.94-2.06-.94-.94-2.06-.94 2.06-2.06.94z\"/><path d=\"M17.41 7.96l-1.37-1.37c-.4-.4-.92-.59-1.43-.59-.52 0-1.04.2-1.43.59L10.3 9.45l-7.72 7.72c-.78.78-.78 2.05 0 2.83L4 21.41c.39.39.9.59 1.41.59.51 0 1.02-.2 1.41-.59l7.78-7.78 2.81-2.81c.8-.78.8-2.07 0-2.86zM5.41 20L4 18.59l7.72-7.72 1.47 1.35L5.41 20z\"/>\n",
              "  </svg>\n",
              "      </button>\n",
              "      \n",
              "  <style>\n",
              "    .colab-df-container {\n",
              "      display:flex;\n",
              "      flex-wrap:wrap;\n",
              "      gap: 12px;\n",
              "    }\n",
              "\n",
              "    .colab-df-convert {\n",
              "      background-color: #E8F0FE;\n",
              "      border: none;\n",
              "      border-radius: 50%;\n",
              "      cursor: pointer;\n",
              "      display: none;\n",
              "      fill: #1967D2;\n",
              "      height: 32px;\n",
              "      padding: 0 0 0 0;\n",
              "      width: 32px;\n",
              "    }\n",
              "\n",
              "    .colab-df-convert:hover {\n",
              "      background-color: #E2EBFA;\n",
              "      box-shadow: 0px 1px 2px rgba(60, 64, 67, 0.3), 0px 1px 3px 1px rgba(60, 64, 67, 0.15);\n",
              "      fill: #174EA6;\n",
              "    }\n",
              "\n",
              "    [theme=dark] .colab-df-convert {\n",
              "      background-color: #3B4455;\n",
              "      fill: #D2E3FC;\n",
              "    }\n",
              "\n",
              "    [theme=dark] .colab-df-convert:hover {\n",
              "      background-color: #434B5C;\n",
              "      box-shadow: 0px 1px 3px 1px rgba(0, 0, 0, 0.15);\n",
              "      filter: drop-shadow(0px 1px 2px rgba(0, 0, 0, 0.3));\n",
              "      fill: #FFFFFF;\n",
              "    }\n",
              "  </style>\n",
              "\n",
              "      <script>\n",
              "        const buttonEl =\n",
              "          document.querySelector('#df-06756a38-089f-4ceb-ac96-1c650ddce85e button.colab-df-convert');\n",
              "        buttonEl.style.display =\n",
              "          google.colab.kernel.accessAllowed ? 'block' : 'none';\n",
              "\n",
              "        async function convertToInteractive(key) {\n",
              "          const element = document.querySelector('#df-06756a38-089f-4ceb-ac96-1c650ddce85e');\n",
              "          const dataTable =\n",
              "            await google.colab.kernel.invokeFunction('convertToInteractive',\n",
              "                                                     [key], {});\n",
              "          if (!dataTable) return;\n",
              "\n",
              "          const docLinkHtml = 'Like what you see? Visit the ' +\n",
              "            '<a target=\"_blank\" href=https://colab.research.google.com/notebooks/data_table.ipynb>data table notebook</a>'\n",
              "            + ' to learn more about interactive tables.';\n",
              "          element.innerHTML = '';\n",
              "          dataTable['output_type'] = 'display_data';\n",
              "          await google.colab.output.renderOutput(dataTable, element);\n",
              "          const docLink = document.createElement('div');\n",
              "          docLink.innerHTML = docLinkHtml;\n",
              "          element.appendChild(docLink);\n",
              "        }\n",
              "      </script>\n",
              "    </div>\n",
              "  </div>\n",
              "  "
            ]
          },
          "metadata": {},
          "execution_count": 51
        }
      ]
    },
    {
      "cell_type": "code",
      "execution_count": null,
      "metadata": {
        "colab": {
          "base_uri": "https://localhost:8080/",
          "height": 265
        },
        "id": "mDtBtckC3R06",
        "outputId": "4e6e4564-9b1a-440c-ce93-caefd3594695"
      },
      "outputs": [
        {
          "output_type": "display_data",
          "data": {
            "text/plain": [
              "<Figure size 1000x200 with 1 Axes>"
            ],
            "image/png": "[encoded data removed]"
          },
          "metadata": {}
        }
      ],
      "source": [
        "# Menampilkan histogram P-R Interval\n",
        "plt.figure(figsize=(10, 2))\n",
        "final_df['P-R_Int'].hist()\n",
        "\n",
        "# Memberi judul pada plot dan sumbu-sumbunya\n",
        "plt.title('Histogram P-R Interval')\n",
        "plt.xlabel('P-R Interval')\n",
        "plt.ylabel('Frequency')\n",
        "\n",
        "# Menampilkan plot\n",
        "plt.show()"
      ]
    },
    {
      "cell_type": "code",
      "source": [
        "# Data QRS dan P-R Interval\n",
        "qrs_data = final_df['QRS']\n",
        "pr_interval_data = final_df['P-R_Int']\n",
        "\n",
        "# Membuat scatter plot\n",
        "plt.scatter(qrs_data, pr_interval_data)\n",
        "\n",
        "# Memberi judul pada plot dan sumbu-sumbunya\n",
        "plt.title('Scatter Plot QRS vs P-R Interval')\n",
        "plt.xlabel('Durasi QRS')\n",
        "plt.ylabel('P-R Interval')\n",
        "\n",
        "# Menampilkan plot\n",
        "plt.show()"
      ],
      "metadata": {
        "colab": {
          "base_uri": "https://localhost:8080/",
          "height": 516
        },
        "id": "nhLyiLbsZTk-",
        "outputId": "367c12ed-47d2-43f6-ee42-b0dc60ef3e56"
      },
      "execution_count": null,
      "outputs": [
        {
          "output_type": "display_data",
          "data": {
            "text/plain": [
              "<Figure size 1170x527 with 1 Axes>"
            ],
            "image/png": "[encoded data removed]"
          },
          "metadata": {}
        }
      ]
    },
    {
      "cell_type": "code",
      "source": [
        "# Data kelas\n",
        "class_data = new_df['class']\n",
        "\n",
        "# Membuat box plot\n",
        "plt.boxplot(class_data)\n",
        "\n",
        "# Memberi judul pada plot dan sumbu-sumbunya\n",
        "plt.title('Box Plot Class')\n",
        "plt.xlabel('Class')\n",
        "plt.ylabel('Nilai')\n",
        "\n",
        "# Menampilkan plot\n",
        "plt.show()"
      ],
      "metadata": {
        "colab": {
          "base_uri": "https://localhost:8080/",
          "height": 516
        },
        "id": "lCArwMqdaMLn",
        "outputId": "028abb87-5074-44a3-8f82-002969a12390"
      },
      "execution_count": null,
      "outputs": [
        {
          "output_type": "display_data",
          "data": {
            "text/plain": [
              "<Figure size 1170x527 with 1 Axes>"
            ],
            "image/png": "[encoded data removed]"
          },
          "metadata": {}
        }
      ]
    },
    {
      "cell_type": "markdown",
      "metadata": {
        "id": "t0SFO1AU_dvz",
        "outputId": "7f60452a-7103-4495-c24c-4350396f28b4"
      },
      "source": [
        "## **Fitur Penskalaan dan Pemisahan pada dataset**\n",
        "<br />\n",
        "Kami akan menggunakan 80% dari dataset kami untuk tujuan pelatihan dan 20% untuk tujuan pengujian."
      ]
    },
    {
      "cell_type": "code",
      "execution_count": null,
      "metadata": {
        "id": "Ues9w6DH8JaJ"
      },
      "outputs": [],
      "source": [
        "from sklearn.model_selection import train_test_split\n",
        "X_train, X_test, y_train, y_test = train_test_split(final_df, target ,test_size=0.2, random_state=1)"
      ]
    },
    {
      "cell_type": "code",
      "execution_count": null,
      "metadata": {
        "id": "2CK3Rf9O8JaJ"
      },
      "outputs": [],
      "source": [
        "from sklearn.preprocessing import StandardScaler\n",
        "scaler = StandardScaler()\n",
        "\n",
        "scaler.fit(X_train)\n",
        "X_train = scaler.transform(X_train)\n",
        "X_test = scaler.transform(X_test)"
      ]
    },
    {
      "cell_type": "code",
      "execution_count": null,
      "metadata": {
        "id": "knmFQFRg8JaJ"
      },
      "outputs": [],
      "source": [
        "import warnings\n",
        "warnings.filterwarnings('ignore')"
      ]
    },
    {
      "cell_type": "markdown",
      "metadata": {
        "id": "TsQ7pqdp8JaJ"
      },
      "source": [
        "## Mengevaluasi strategi\n",
        "\n",
        "\n",
        "Karena variabel dependen adalah variabel kategorikal, kita akan menggunakan model klasifikasi. Strategi evaluasi terbaik untuk model klasifikasi adalah membandingkan presisi dan recall. Ketika mempertimbangkan metrik evaluasi klasifikasi, pentingnya prediksi yang akurat dari model kita (kita tidak bisa menerima hasil yang memberi probabilitas mengatakan kepada orang sehat bahwa mereka memiliki Aritmia Jantung (FN)).\n",
        "\n",
        "Kita akan fokus pada Sensitivitas (persentase orang yang sakit yang diidentifikasi dengan benar memiliki kondisi tersebut) bukan Spesifisitas (persentase orang sehat yang diidentifikasi dengan benar tidak memiliki kondisi tersebut)."
      ]
    },
    {
      "cell_type": "code",
      "source": [
        "!pip install scikit-plot"
      ],
      "metadata": {
        "id": "WuniffFM9fov",
        "colab": {
          "base_uri": "https://localhost:8080/"
        },
        "outputId": "6493b743-67d1-4466-cc1c-4b58a90d07c3"
      },
      "execution_count": null,
      "outputs": [
        {
          "output_type": "stream",
          "name": "stdout",
          "text": [
            "Looking in indexes: https://pypi.org/simple, https://us-python.pkg.dev/colab-wheels/public/simple/\n",
            "Collecting scikit-plot\n",
            "  Downloading scikit_plot-0.3.7-py3-none-any.whl (33 kB)\n",
            "Requirement already satisfied: matplotlib>=1.4.0 in /usr/local/lib/python3.10/dist-packages (from scikit-plot) (3.7.1)\n",
            "Requirement already satisfied: scikit-learn>=0.18 in /usr/local/lib/python3.10/dist-packages (from scikit-plot) (1.2.2)\n",
            "Requirement already satisfied: scipy>=0.9 in /usr/local/lib/python3.10/dist-packages (from scikit-plot) (1.10.1)\n",
            "Requirement already satisfied: joblib>=0.10 in /usr/local/lib/python3.10/dist-packages (from scikit-plot) (1.2.0)\n",
            "Requirement already satisfied: contourpy>=1.0.1 in /usr/local/lib/python3.10/dist-packages (from matplotlib>=1.4.0->scikit-plot) (1.0.7)\n",
            "Requirement already satisfied: cycler>=0.10 in /usr/local/lib/python3.10/dist-packages (from matplotlib>=1.4.0->scikit-plot) (0.11.0)\n",
            "Requirement already satisfied: fonttools>=4.22.0 in /usr/local/lib/python3.10/dist-packages (from matplotlib>=1.4.0->scikit-plot) (4.39.3)\n",
            "Requirement already satisfied: kiwisolver>=1.0.1 in /usr/local/lib/python3.10/dist-packages (from matplotlib>=1.4.0->scikit-plot) (1.4.4)\n",
            "Requirement already satisfied: numpy>=1.20 in /usr/local/lib/python3.10/dist-packages (from matplotlib>=1.4.0->scikit-plot) (1.22.4)\n",
            "Requirement already satisfied: packaging>=20.0 in /usr/local/lib/python3.10/dist-packages (from matplotlib>=1.4.0->scikit-plot) (23.1)\n",
            "Requirement already satisfied: pillow>=6.2.0 in /usr/local/lib/python3.10/dist-packages (from matplotlib>=1.4.0->scikit-plot) (8.4.0)\n",
            "Requirement already satisfied: pyparsing>=2.3.1 in /usr/local/lib/python3.10/dist-packages (from matplotlib>=1.4.0->scikit-plot) (3.0.9)\n",
            "Requirement already satisfied: python-dateutil>=2.7 in /usr/local/lib/python3.10/dist-packages (from matplotlib>=1.4.0->scikit-plot) (2.8.2)\n",
            "Requirement already satisfied: threadpoolctl>=2.0.0 in /usr/local/lib/python3.10/dist-packages (from scikit-learn>=0.18->scikit-plot) (3.1.0)\n",
            "Requirement already satisfied: six>=1.5 in /usr/local/lib/python3.10/dist-packages (from python-dateutil>=2.7->matplotlib>=1.4.0->scikit-plot) (1.16.0)\n",
            "Installing collected packages: scikit-plot\n",
            "Successfully installed scikit-plot-0.3.7\n"
          ]
        }
      ]
    },
    {
      "cell_type": "code",
      "execution_count": null,
      "metadata": {
        "id": "-eSvjLWL8JaJ"
      },
      "outputs": [],
      "source": [
        "# importing evaluation metrices.\n",
        "\n",
        "from sklearn.metrics import r2_score,mean_squared_error,accuracy_score,recall_score,precision_score,confusion_matrix,classification_report\n",
        "from scikitplot.metrics import plot_confusion_matrix,plot_roc"
      ]
    },
    {
      "cell_type": "markdown",
      "metadata": {
        "id": "5x8mCGeQ8JaK"
      },
      "source": [
        "# **3. Modeling**"
      ]
    },
    {
      "cell_type": "code",
      "execution_count": null,
      "metadata": {
        "id": "c3HgXgnF8JaK"
      },
      "outputs": [],
      "source": [
        "# result akan menyimpan hasil setiap model nantinya\n",
        "\n",
        "result = pd.DataFrame(columns=['Model','Train Accuracy','Test Accuracy'])"
      ]
    },
    {
      "cell_type": "markdown",
      "metadata": {
        "id": "e15GbyvQ8JaK"
      },
      "source": [
        "## **kNN Classifier**"
      ]
    },
    {
      "cell_type": "code",
      "execution_count": null,
      "metadata": {
        "id": "bzP4caR88JaK"
      },
      "outputs": [],
      "source": [
        "from sklearn.neighbors import KNeighborsClassifier\n",
        "knnclassifier = KNeighborsClassifier()\n",
        "knnclassifier.fit(X_train, y_train)\n",
        "y_pred = knnclassifier.predict(X_test)"
      ]
    },
    {
      "cell_type": "code",
      "execution_count": null,
      "metadata": {
        "id": "mM_n3Azg8JaK"
      },
      "outputs": [],
      "source": [
        "knn_train_accuracy = accuracy_score(y_train, knnclassifier.predict(X_train))\n",
        "knn_test_accuracy = accuracy_score(y_test, knnclassifier.predict(X_test))\n",
        "knn_train_recall = recall_score(y_train, knnclassifier.predict(X_train),average=\"weighted\")\n",
        "knn_test_recall = recall_score(y_test, knnclassifier.predict(X_test),average=\"weighted\")"
      ]
    },
    {
      "cell_type": "code",
      "execution_count": null,
      "metadata": {
        "id": "7ry3zAa08JaK",
        "colab": {
          "base_uri": "https://localhost:8080/"
        },
        "outputId": "0e444d5a-139d-4769-8c3e-e55430db8fe8"
      },
      "outputs": [
        {
          "output_type": "stream",
          "name": "stdout",
          "text": [
            "Train Recall score: 0.6481994459833795\n",
            "Test Recall score: 0.6483516483516484\n"
          ]
        },
        {
          "output_type": "execute_result",
          "data": {
            "text/plain": [
              "array([[52,  0,  0,  0,  0,  0,  0,  0,  0,  0,  0],\n",
              "       [ 7,  1,  0,  0,  0,  0,  0,  0,  0,  0,  0],\n",
              "       [ 2,  0,  2,  0,  0,  0,  0,  0,  0,  0,  0],\n",
              "       [ 0,  0,  0,  1,  0,  0,  0,  0,  0,  0,  0],\n",
              "       [ 2,  0,  0,  0,  0,  0,  0,  0,  0,  0,  0],\n",
              "       [ 3,  0,  0,  0,  0,  0,  0,  0,  0,  0,  0],\n",
              "       [ 1,  0,  0,  0,  0,  0,  0,  0,  0,  0,  0],\n",
              "       [ 0,  0,  0,  0,  0,  0,  0,  1,  0,  0,  1],\n",
              "       [ 8,  0,  0,  0,  0,  0,  0,  0,  2,  0,  0],\n",
              "       [ 2,  0,  0,  0,  0,  0,  0,  0,  0,  0,  0],\n",
              "       [ 6,  0,  0,  0,  0,  0,  0,  0,  0,  0,  0]])"
            ]
          },
          "metadata": {},
          "execution_count": 63
        }
      ],
      "source": [
        "print('Train Recall score: {}'\n",
        "      .format(knn_train_recall))\n",
        "print('Test Recall score: {}'\n",
        "      .format(knn_test_recall))\n",
        "confusion_matrix(y_test, y_pred)"
      ]
    },
    {
      "cell_type": "code",
      "execution_count": null,
      "metadata": {
        "id": "4D4a5c6I8JaL",
        "colab": {
          "base_uri": "https://localhost:8080/",
          "height": 81
        },
        "outputId": "5ec835eb-e723-49d6-a467-b34dcd8f8917"
      },
      "outputs": [
        {
          "output_type": "execute_result",
          "data": {
            "text/plain": [
              "  Model  Train Accuracy  Test Accuracy\n",
              "0  KNN         0.648199       0.648352"
            ],
            "text/html": [
              "\n",
              "  <div id=\"df-59b8971f-a4a6-4d4d-a2ad-76a1f9811023\">\n",
              "    <div class=\"colab-df-container\">\n",
              "      <div>\n",
              "<style scoped>\n",
              "    .dataframe tbody tr th:only-of-type {\n",
              "        vertical-align: middle;\n",
              "    }\n",
              "\n",
              "    .dataframe tbody tr th {\n",
              "        vertical-align: top;\n",
              "    }\n",
              "\n",
              "    .dataframe thead th {\n",
              "        text-align: right;\n",
              "    }\n",
              "</style>\n",
              "<table border=\"1\" class=\"dataframe\">\n",
              "  <thead>\n",
              "    <tr style=\"text-align: right;\">\n",
              "      <th></th>\n",
              "      <th>Model</th>\n",
              "      <th>Train Accuracy</th>\n",
              "      <th>Test Accuracy</th>\n",
              "    </tr>\n",
              "  </thead>\n",
              "  <tbody>\n",
              "    <tr>\n",
              "      <th>0</th>\n",
              "      <td>KNN</td>\n",
              "      <td>0.648199</td>\n",
              "      <td>0.648352</td>\n",
              "    </tr>\n",
              "  </tbody>\n",
              "</table>\n",
              "</div>\n",
              "      <button class=\"colab-df-convert\" onclick=\"convertToInteractive('df-59b8971f-a4a6-4d4d-a2ad-76a1f9811023')\"\n",
              "              title=\"Convert this dataframe to an interactive table.\"\n",
              "              style=\"display:none;\">\n",
              "        \n",
              "  <svg xmlns=\"http://www.w3.org/2000/svg\" height=\"24px\"viewBox=\"0 0 24 24\"\n",
              "       width=\"24px\">\n",
              "    <path d=\"M0 0h24v24H0V0z\" fill=\"none\"/>\n",
              "    <path d=\"M18.56 5.44l.94 2.06.94-2.06 2.06-.94-2.06-.94-.94-2.06-.94 2.06-2.06.94zm-11 1L8.5 8.5l.94-2.06 2.06-.94-2.06-.94L8.5 2.5l-.94 2.06-2.06.94zm10 10l.94 2.06.94-2.06 2.06-.94-2.06-.94-.94-2.06-.94 2.06-2.06.94z\"/><path d=\"M17.41 7.96l-1.37-1.37c-.4-.4-.92-.59-1.43-.59-.52 0-1.04.2-1.43.59L10.3 9.45l-7.72 7.72c-.78.78-.78 2.05 0 2.83L4 21.41c.39.39.9.59 1.41.59.51 0 1.02-.2 1.41-.59l7.78-7.78 2.81-2.81c.8-.78.8-2.07 0-2.86zM5.41 20L4 18.59l7.72-7.72 1.47 1.35L5.41 20z\"/>\n",
              "  </svg>\n",
              "      </button>\n",
              "      \n",
              "  <style>\n",
              "    .colab-df-container {\n",
              "      display:flex;\n",
              "      flex-wrap:wrap;\n",
              "      gap: 12px;\n",
              "    }\n",
              "\n",
              "    .colab-df-convert {\n",
              "      background-color: #E8F0FE;\n",
              "      border: none;\n",
              "      border-radius: 50%;\n",
              "      cursor: pointer;\n",
              "      display: none;\n",
              "      fill: #1967D2;\n",
              "      height: 32px;\n",
              "      padding: 0 0 0 0;\n",
              "      width: 32px;\n",
              "    }\n",
              "\n",
              "    .colab-df-convert:hover {\n",
              "      background-color: #E2EBFA;\n",
              "      box-shadow: 0px 1px 2px rgba(60, 64, 67, 0.3), 0px 1px 3px 1px rgba(60, 64, 67, 0.15);\n",
              "      fill: #174EA6;\n",
              "    }\n",
              "\n",
              "    [theme=dark] .colab-df-convert {\n",
              "      background-color: #3B4455;\n",
              "      fill: #D2E3FC;\n",
              "    }\n",
              "\n",
              "    [theme=dark] .colab-df-convert:hover {\n",
              "      background-color: #434B5C;\n",
              "      box-shadow: 0px 1px 3px 1px rgba(0, 0, 0, 0.15);\n",
              "      filter: drop-shadow(0px 1px 2px rgba(0, 0, 0, 0.3));\n",
              "      fill: #FFFFFF;\n",
              "    }\n",
              "  </style>\n",
              "\n",
              "      <script>\n",
              "        const buttonEl =\n",
              "          document.querySelector('#df-59b8971f-a4a6-4d4d-a2ad-76a1f9811023 button.colab-df-convert');\n",
              "        buttonEl.style.display =\n",
              "          google.colab.kernel.accessAllowed ? 'block' : 'none';\n",
              "\n",
              "        async function convertToInteractive(key) {\n",
              "          const element = document.querySelector('#df-59b8971f-a4a6-4d4d-a2ad-76a1f9811023');\n",
              "          const dataTable =\n",
              "            await google.colab.kernel.invokeFunction('convertToInteractive',\n",
              "                                                     [key], {});\n",
              "          if (!dataTable) return;\n",
              "\n",
              "          const docLinkHtml = 'Like what you see? Visit the ' +\n",
              "            '<a target=\"_blank\" href=https://colab.research.google.com/notebooks/data_table.ipynb>data table notebook</a>'\n",
              "            + ' to learn more about interactive tables.';\n",
              "          element.innerHTML = '';\n",
              "          dataTable['output_type'] = 'display_data';\n",
              "          await google.colab.output.renderOutput(dataTable, element);\n",
              "          const docLink = document.createElement('div');\n",
              "          docLink.innerHTML = docLinkHtml;\n",
              "          element.appendChild(docLink);\n",
              "        }\n",
              "      </script>\n",
              "    </div>\n",
              "  </div>\n",
              "  "
            ]
          },
          "metadata": {},
          "execution_count": 64
        }
      ],
      "source": [
        "result = result.append(pd.Series({'Model':'KNN ','Train Accuracy':knn_train_accuracy,'Test Accuracy':knn_test_accuracy}),ignore_index=True)\n",
        "result"
      ]
    },
    {
      "cell_type": "markdown",
      "metadata": {
        "id": "LFEPwpQN8JaM"
      },
      "source": [
        "## **Decision Tree Classifier**"
      ]
    },
    {
      "cell_type": "code",
      "execution_count": null,
      "metadata": {
        "id": "d88-lrCd8JaM"
      },
      "outputs": [],
      "source": [
        "from sklearn.tree import DecisionTreeClassifier\n",
        "dtclassifier = DecisionTreeClassifier(criterion = 'entropy', random_state = 0,max_depth=5)\n",
        "dtclassifier.fit(X_train, y_train)\n",
        "y_pred_test = dtclassifier.predict(X_test)\n",
        "y_pred_train = dtclassifier.predict(X_train)"
      ]
    },
    {
      "cell_type": "code",
      "execution_count": null,
      "metadata": {
        "id": "rKPyPSMb8JaM"
      },
      "outputs": [],
      "source": [
        "dt_train_recall = recall_score(y_train,y_pred_train,average=\"weighted\" )\n",
        "dt_test_recall = recall_score(y_test, y_pred_test,average=\"weighted\")\n",
        "dt_train_accuracy = accuracy_score(y_train,y_pred_train )\n",
        "dt_test_accuracy = accuracy_score(y_test, y_pred_test)\n"
      ]
    },
    {
      "cell_type": "code",
      "execution_count": null,
      "metadata": {
        "id": "I9iGXL238JaM",
        "colab": {
          "base_uri": "https://localhost:8080/"
        },
        "outputId": "9ae94111-856c-4270-a255-a5910bec0d78"
      },
      "outputs": [
        {
          "output_type": "stream",
          "name": "stdout",
          "text": [
            "Train Recall score: 0.7894736842105263\n",
            "Test Recall score: 0.6813186813186813\n"
          ]
        },
        {
          "output_type": "execute_result",
          "data": {
            "text/plain": [
              "array([[50,  1,  0,  0,  0,  0,  0,  0,  1,  0,  0],\n",
              "       [ 4,  4,  0,  0,  0,  0,  0,  0,  0,  0,  0],\n",
              "       [ 0,  0,  3,  0,  0,  0,  0,  0,  0,  0,  1],\n",
              "       [ 0,  0,  0,  0,  1,  0,  0,  0,  0,  0,  0],\n",
              "       [ 1,  0,  1,  0,  0,  0,  0,  0,  0,  0,  0],\n",
              "       [ 3,  0,  0,  0,  0,  0,  0,  0,  0,  0,  0],\n",
              "       [ 1,  0,  0,  0,  0,  0,  0,  0,  0,  0,  0],\n",
              "       [ 1,  0,  0,  0,  0,  0,  0,  1,  0,  0,  0],\n",
              "       [ 5,  1,  0,  0,  0,  0,  0,  0,  4,  0,  0],\n",
              "       [ 1,  0,  1,  0,  0,  0,  0,  0,  0,  0,  0],\n",
              "       [ 3,  1,  1,  0,  0,  0,  1,  0,  0,  0,  0]])"
            ]
          },
          "metadata": {},
          "execution_count": 67
        }
      ],
      "source": [
        "print('Train Recall score: {}'\n",
        "      .format(dt_train_recall))\n",
        "print('Test Recall score: {}'\n",
        "      .format(dt_test_recall))\n",
        "confusion_matrix(y_test, y_pred_test)"
      ]
    },
    {
      "cell_type": "code",
      "execution_count": null,
      "metadata": {
        "id": "b2F_i2ta8JaP",
        "colab": {
          "base_uri": "https://localhost:8080/",
          "height": 112
        },
        "outputId": "64160223-7cc0-40e2-d797-dad0644e38ec"
      },
      "outputs": [
        {
          "output_type": "execute_result",
          "data": {
            "text/plain": [
              "            Model  Train Accuracy  Test Accuracy\n",
              "0            KNN         0.648199       0.648352\n",
              "1  Decision Tree         0.789474       0.681319"
            ],
            "text/html": [
              "\n",
              "  <div id=\"df-200faf4a-9b20-4498-8a87-29fbbe47e67e\">\n",
              "    <div class=\"colab-df-container\">\n",
              "      <div>\n",
              "<style scoped>\n",
              "    .dataframe tbody tr th:only-of-type {\n",
              "        vertical-align: middle;\n",
              "    }\n",
              "\n",
              "    .dataframe tbody tr th {\n",
              "        vertical-align: top;\n",
              "    }\n",
              "\n",
              "    .dataframe thead th {\n",
              "        text-align: right;\n",
              "    }\n",
              "</style>\n",
              "<table border=\"1\" class=\"dataframe\">\n",
              "  <thead>\n",
              "    <tr style=\"text-align: right;\">\n",
              "      <th></th>\n",
              "      <th>Model</th>\n",
              "      <th>Train Accuracy</th>\n",
              "      <th>Test Accuracy</th>\n",
              "    </tr>\n",
              "  </thead>\n",
              "  <tbody>\n",
              "    <tr>\n",
              "      <th>0</th>\n",
              "      <td>KNN</td>\n",
              "      <td>0.648199</td>\n",
              "      <td>0.648352</td>\n",
              "    </tr>\n",
              "    <tr>\n",
              "      <th>1</th>\n",
              "      <td>Decision Tree</td>\n",
              "      <td>0.789474</td>\n",
              "      <td>0.681319</td>\n",
              "    </tr>\n",
              "  </tbody>\n",
              "</table>\n",
              "</div>\n",
              "      <button class=\"colab-df-convert\" onclick=\"convertToInteractive('df-200faf4a-9b20-4498-8a87-29fbbe47e67e')\"\n",
              "              title=\"Convert this dataframe to an interactive table.\"\n",
              "              style=\"display:none;\">\n",
              "        \n",
              "  <svg xmlns=\"http://www.w3.org/2000/svg\" height=\"24px\"viewBox=\"0 0 24 24\"\n",
              "       width=\"24px\">\n",
              "    <path d=\"M0 0h24v24H0V0z\" fill=\"none\"/>\n",
              "    <path d=\"M18.56 5.44l.94 2.06.94-2.06 2.06-.94-2.06-.94-.94-2.06-.94 2.06-2.06.94zm-11 1L8.5 8.5l.94-2.06 2.06-.94-2.06-.94L8.5 2.5l-.94 2.06-2.06.94zm10 10l.94 2.06.94-2.06 2.06-.94-2.06-.94-.94-2.06-.94 2.06-2.06.94z\"/><path d=\"M17.41 7.96l-1.37-1.37c-.4-.4-.92-.59-1.43-.59-.52 0-1.04.2-1.43.59L10.3 9.45l-7.72 7.72c-.78.78-.78 2.05 0 2.83L4 21.41c.39.39.9.59 1.41.59.51 0 1.02-.2 1.41-.59l7.78-7.78 2.81-2.81c.8-.78.8-2.07 0-2.86zM5.41 20L4 18.59l7.72-7.72 1.47 1.35L5.41 20z\"/>\n",
              "  </svg>\n",
              "      </button>\n",
              "      \n",
              "  <style>\n",
              "    .colab-df-container {\n",
              "      display:flex;\n",
              "      flex-wrap:wrap;\n",
              "      gap: 12px;\n",
              "    }\n",
              "\n",
              "    .colab-df-convert {\n",
              "      background-color: #E8F0FE;\n",
              "      border: none;\n",
              "      border-radius: 50%;\n",
              "      cursor: pointer;\n",
              "      display: none;\n",
              "      fill: #1967D2;\n",
              "      height: 32px;\n",
              "      padding: 0 0 0 0;\n",
              "      width: 32px;\n",
              "    }\n",
              "\n",
              "    .colab-df-convert:hover {\n",
              "      background-color: #E2EBFA;\n",
              "      box-shadow: 0px 1px 2px rgba(60, 64, 67, 0.3), 0px 1px 3px 1px rgba(60, 64, 67, 0.15);\n",
              "      fill: #174EA6;\n",
              "    }\n",
              "\n",
              "    [theme=dark] .colab-df-convert {\n",
              "      background-color: #3B4455;\n",
              "      fill: #D2E3FC;\n",
              "    }\n",
              "\n",
              "    [theme=dark] .colab-df-convert:hover {\n",
              "      background-color: #434B5C;\n",
              "      box-shadow: 0px 1px 3px 1px rgba(0, 0, 0, 0.15);\n",
              "      filter: drop-shadow(0px 1px 2px rgba(0, 0, 0, 0.3));\n",
              "      fill: #FFFFFF;\n",
              "    }\n",
              "  </style>\n",
              "\n",
              "      <script>\n",
              "        const buttonEl =\n",
              "          document.querySelector('#df-200faf4a-9b20-4498-8a87-29fbbe47e67e button.colab-df-convert');\n",
              "        buttonEl.style.display =\n",
              "          google.colab.kernel.accessAllowed ? 'block' : 'none';\n",
              "\n",
              "        async function convertToInteractive(key) {\n",
              "          const element = document.querySelector('#df-200faf4a-9b20-4498-8a87-29fbbe47e67e');\n",
              "          const dataTable =\n",
              "            await google.colab.kernel.invokeFunction('convertToInteractive',\n",
              "                                                     [key], {});\n",
              "          if (!dataTable) return;\n",
              "\n",
              "          const docLinkHtml = 'Like what you see? Visit the ' +\n",
              "            '<a target=\"_blank\" href=https://colab.research.google.com/notebooks/data_table.ipynb>data table notebook</a>'\n",
              "            + ' to learn more about interactive tables.';\n",
              "          element.innerHTML = '';\n",
              "          dataTable['output_type'] = 'display_data';\n",
              "          await google.colab.output.renderOutput(dataTable, element);\n",
              "          const docLink = document.createElement('div');\n",
              "          docLink.innerHTML = docLinkHtml;\n",
              "          element.appendChild(docLink);\n",
              "        }\n",
              "      </script>\n",
              "    </div>\n",
              "  </div>\n",
              "  "
            ]
          },
          "metadata": {},
          "execution_count": 68
        }
      ],
      "source": [
        "result = result.append(pd.Series({'Model':'Decision Tree ','Train Accuracy':dt_train_recall,'Test Accuracy':dt_test_recall}),ignore_index=True )\n",
        "result"
      ]
    },
    {
      "cell_type": "markdown",
      "metadata": {
        "id": "wNlea7YK8JaQ"
      },
      "source": [
        "Kita menemukan bahwa model terbaik dalam hal skor recall adalah Decision tree dengan persentase akurasi sebesar **68.13%** dibandingkan model lainnya."
      ]
    },
    {
      "cell_type": "markdown",
      "metadata": {
        "id": "20JekH2l8JaQ"
      },
      "source": [
        "---\n",
        "---"
      ]
    },
    {
      "cell_type": "markdown",
      "metadata": {
        "id": "bILjBopS8JaQ"
      },
      "source": [
        "# **PCA**\n",
        "\n",
        "Kita akan menggunakan PCA (Principal Component Analysis) untuk mengurangi dimensi dari dataset sampel guna mendapatkan fitur terbaik untuk mencapai akurasi yang lebih baik."
      ]
    },
    {
      "cell_type": "code",
      "execution_count": null,
      "metadata": {
        "id": "ZCGVVcVA8JaQ",
        "colab": {
          "base_uri": "https://localhost:8080/"
        },
        "outputId": "bf9b3bdc-789a-402a-cf5b-68a73a5729cb"
      },
      "outputs": [
        {
          "output_type": "execute_result",
          "data": {
            "text/plain": [
              "121"
            ]
          },
          "metadata": {},
          "execution_count": 69
        }
      ],
      "source": [
        "from sklearn.decomposition import PCA\n",
        "pca = PCA(.98)\n",
        "pca.fit(X_train)\n",
        "pca.n_components_"
      ]
    },
    {
      "cell_type": "code",
      "execution_count": null,
      "metadata": {
        "id": "ZOJ6pkoD8JaQ"
      },
      "outputs": [],
      "source": [
        "X_train_pca = pca.transform(X_train)\n",
        "X_test_pca = pca.transform(X_test)"
      ]
    },
    {
      "cell_type": "code",
      "execution_count": null,
      "metadata": {
        "id": "WxMrywsU8JaQ"
      },
      "outputs": [],
      "source": [
        "from sklearn.model_selection import StratifiedKFold\n",
        "kFold = StratifiedKFold(n_splits=5)\n",
        "from sklearn.model_selection import GridSearchCV"
      ]
    },
    {
      "cell_type": "markdown",
      "metadata": {
        "id": "wsANhiZA8JaQ"
      },
      "source": [
        "## **KNN with PCA**"
      ]
    },
    {
      "cell_type": "code",
      "execution_count": null,
      "metadata": {
        "id": "pfFKGV7I8JaR"
      },
      "outputs": [],
      "source": [
        "from sklearn.neighbors import KNeighborsClassifier\n",
        "knnp_clf = KNeighborsClassifier(n_neighbors=5)\n",
        "knnp_clf.fit(X_train_pca, y_train)\n",
        "y_pred_train = knnp_clf.predict(X_train_pca)\n",
        "y_pred_test = knnp_clf.predict(X_test_pca)"
      ]
    },
    {
      "cell_type": "code",
      "execution_count": null,
      "metadata": {
        "id": "pJ9mebRc8JaR"
      },
      "outputs": [],
      "source": [
        "knnp_train_recall = recall_score(y_train, y_pred_train, average='weighted')\n",
        "knnp_test_recall = recall_score(y_test, y_pred_test, average='weighted')\n",
        "knnp_train_accuracy = accuracy_score(y_train, y_pred_train)\n",
        "knnp_test_accuracy = accuracy_score(y_test, y_pred_test)"
      ]
    },
    {
      "cell_type": "code",
      "execution_count": null,
      "metadata": {
        "id": "h-6A528d8JaR",
        "colab": {
          "base_uri": "https://localhost:8080/"
        },
        "outputId": "0d40e3c2-45e4-4ff6-830d-5846a4d52dcf"
      },
      "outputs": [
        {
          "output_type": "stream",
          "name": "stdout",
          "text": [
            "Train Recall score: 0.6454293628808865\n",
            "Test Recall score: 0.6483516483516484\n"
          ]
        },
        {
          "output_type": "execute_result",
          "data": {
            "text/plain": [
              "array([[51,  0,  0,  0,  0,  1,  0,  0,  0,  0,  0],\n",
              "       [ 6,  2,  0,  0,  0,  0,  0,  0,  0,  0,  0],\n",
              "       [ 2,  0,  2,  0,  0,  0,  0,  0,  0,  0,  0],\n",
              "       [ 0,  0,  0,  1,  0,  0,  0,  0,  0,  0,  0],\n",
              "       [ 2,  0,  0,  0,  0,  0,  0,  0,  0,  0,  0],\n",
              "       [ 3,  0,  0,  0,  0,  0,  0,  0,  0,  0,  0],\n",
              "       [ 1,  0,  0,  0,  0,  0,  0,  0,  0,  0,  0],\n",
              "       [ 0,  0,  0,  0,  0,  0,  0,  1,  0,  0,  1],\n",
              "       [ 8,  0,  0,  0,  0,  0,  0,  0,  2,  0,  0],\n",
              "       [ 2,  0,  0,  0,  0,  0,  0,  0,  0,  0,  0],\n",
              "       [ 6,  0,  0,  0,  0,  0,  0,  0,  0,  0,  0]])"
            ]
          },
          "metadata": {},
          "execution_count": 74
        }
      ],
      "source": [
        "\n",
        "print('Train Recall score: {}'\n",
        "      .format(knnp_train_recall))\n",
        "print('Test Recall score: {}'\n",
        "      .format(knnp_test_recall))\n",
        "\n",
        "confusion_matrix(y_test, y_pred_test)"
      ]
    },
    {
      "cell_type": "code",
      "execution_count": null,
      "metadata": {
        "id": "6PSjAHjJ8JaR",
        "colab": {
          "base_uri": "https://localhost:8080/",
          "height": 143
        },
        "outputId": "4d8e12d5-5343-4c42-e769-7aa57828c7ee"
      },
      "outputs": [
        {
          "output_type": "execute_result",
          "data": {
            "text/plain": [
              "            Model  Train Accuracy  Test Accuracy\n",
              "0            KNN         0.648199       0.648352\n",
              "1  Decision Tree         0.789474       0.681319\n",
              "2  KNN dengan PCA        0.645429       0.648352"
            ],
            "text/html": [
              "\n",
              "  <div id=\"df-4d133f1c-add9-4b49-99be-6e8e31510c1d\">\n",
              "    <div class=\"colab-df-container\">\n",
              "      <div>\n",
              "<style scoped>\n",
              "    .dataframe tbody tr th:only-of-type {\n",
              "        vertical-align: middle;\n",
              "    }\n",
              "\n",
              "    .dataframe tbody tr th {\n",
              "        vertical-align: top;\n",
              "    }\n",
              "\n",
              "    .dataframe thead th {\n",
              "        text-align: right;\n",
              "    }\n",
              "</style>\n",
              "<table border=\"1\" class=\"dataframe\">\n",
              "  <thead>\n",
              "    <tr style=\"text-align: right;\">\n",
              "      <th></th>\n",
              "      <th>Model</th>\n",
              "      <th>Train Accuracy</th>\n",
              "      <th>Test Accuracy</th>\n",
              "    </tr>\n",
              "  </thead>\n",
              "  <tbody>\n",
              "    <tr>\n",
              "      <th>0</th>\n",
              "      <td>KNN</td>\n",
              "      <td>0.648199</td>\n",
              "      <td>0.648352</td>\n",
              "    </tr>\n",
              "    <tr>\n",
              "      <th>1</th>\n",
              "      <td>Decision Tree</td>\n",
              "      <td>0.789474</td>\n",
              "      <td>0.681319</td>\n",
              "    </tr>\n",
              "    <tr>\n",
              "      <th>2</th>\n",
              "      <td>KNN dengan PCA</td>\n",
              "      <td>0.645429</td>\n",
              "      <td>0.648352</td>\n",
              "    </tr>\n",
              "  </tbody>\n",
              "</table>\n",
              "</div>\n",
              "      <button class=\"colab-df-convert\" onclick=\"convertToInteractive('df-4d133f1c-add9-4b49-99be-6e8e31510c1d')\"\n",
              "              title=\"Convert this dataframe to an interactive table.\"\n",
              "              style=\"display:none;\">\n",
              "        \n",
              "  <svg xmlns=\"http://www.w3.org/2000/svg\" height=\"24px\"viewBox=\"0 0 24 24\"\n",
              "       width=\"24px\">\n",
              "    <path d=\"M0 0h24v24H0V0z\" fill=\"none\"/>\n",
              "    <path d=\"M18.56 5.44l.94 2.06.94-2.06 2.06-.94-2.06-.94-.94-2.06-.94 2.06-2.06.94zm-11 1L8.5 8.5l.94-2.06 2.06-.94-2.06-.94L8.5 2.5l-.94 2.06-2.06.94zm10 10l.94 2.06.94-2.06 2.06-.94-2.06-.94-.94-2.06-.94 2.06-2.06.94z\"/><path d=\"M17.41 7.96l-1.37-1.37c-.4-.4-.92-.59-1.43-.59-.52 0-1.04.2-1.43.59L10.3 9.45l-7.72 7.72c-.78.78-.78 2.05 0 2.83L4 21.41c.39.39.9.59 1.41.59.51 0 1.02-.2 1.41-.59l7.78-7.78 2.81-2.81c.8-.78.8-2.07 0-2.86zM5.41 20L4 18.59l7.72-7.72 1.47 1.35L5.41 20z\"/>\n",
              "  </svg>\n",
              "      </button>\n",
              "      \n",
              "  <style>\n",
              "    .colab-df-container {\n",
              "      display:flex;\n",
              "      flex-wrap:wrap;\n",
              "      gap: 12px;\n",
              "    }\n",
              "\n",
              "    .colab-df-convert {\n",
              "      background-color: #E8F0FE;\n",
              "      border: none;\n",
              "      border-radius: 50%;\n",
              "      cursor: pointer;\n",
              "      display: none;\n",
              "      fill: #1967D2;\n",
              "      height: 32px;\n",
              "      padding: 0 0 0 0;\n",
              "      width: 32px;\n",
              "    }\n",
              "\n",
              "    .colab-df-convert:hover {\n",
              "      background-color: #E2EBFA;\n",
              "      box-shadow: 0px 1px 2px rgba(60, 64, 67, 0.3), 0px 1px 3px 1px rgba(60, 64, 67, 0.15);\n",
              "      fill: #174EA6;\n",
              "    }\n",
              "\n",
              "    [theme=dark] .colab-df-convert {\n",
              "      background-color: #3B4455;\n",
              "      fill: #D2E3FC;\n",
              "    }\n",
              "\n",
              "    [theme=dark] .colab-df-convert:hover {\n",
              "      background-color: #434B5C;\n",
              "      box-shadow: 0px 1px 3px 1px rgba(0, 0, 0, 0.15);\n",
              "      filter: drop-shadow(0px 1px 2px rgba(0, 0, 0, 0.3));\n",
              "      fill: #FFFFFF;\n",
              "    }\n",
              "  </style>\n",
              "\n",
              "      <script>\n",
              "        const buttonEl =\n",
              "          document.querySelector('#df-4d133f1c-add9-4b49-99be-6e8e31510c1d button.colab-df-convert');\n",
              "        buttonEl.style.display =\n",
              "          google.colab.kernel.accessAllowed ? 'block' : 'none';\n",
              "\n",
              "        async function convertToInteractive(key) {\n",
              "          const element = document.querySelector('#df-4d133f1c-add9-4b49-99be-6e8e31510c1d');\n",
              "          const dataTable =\n",
              "            await google.colab.kernel.invokeFunction('convertToInteractive',\n",
              "                                                     [key], {});\n",
              "          if (!dataTable) return;\n",
              "\n",
              "          const docLinkHtml = 'Like what you see? Visit the ' +\n",
              "            '<a target=\"_blank\" href=https://colab.research.google.com/notebooks/data_table.ipynb>data table notebook</a>'\n",
              "            + ' to learn more about interactive tables.';\n",
              "          element.innerHTML = '';\n",
              "          dataTable['output_type'] = 'display_data';\n",
              "          await google.colab.output.renderOutput(dataTable, element);\n",
              "          const docLink = document.createElement('div');\n",
              "          docLink.innerHTML = docLinkHtml;\n",
              "          element.appendChild(docLink);\n",
              "        }\n",
              "      </script>\n",
              "    </div>\n",
              "  </div>\n",
              "  "
            ]
          },
          "metadata": {},
          "execution_count": 75
        }
      ],
      "source": [
        "result = result.append(pd.Series({'Model':'KNN dengan PCA','Train Accuracy':knnp_train_accuracy,'Test Accuracy':knnp_test_accuracy}),ignore_index=True)\n",
        "result"
      ]
    },
    {
      "cell_type": "markdown",
      "metadata": {
        "id": "rXTXMUzP8JaR"
      },
      "source": [
        "Disini kita tidak menemukan adanya peningkatan pada data PCA dengan model klasifikasi kNN."
      ]
    },
    {
      "cell_type": "markdown",
      "metadata": {
        "id": "2cThdvkk8JaU"
      },
      "source": [
        "## **DecisionTree dengan PCA**"
      ]
    },
    {
      "cell_type": "code",
      "execution_count": null,
      "metadata": {
        "id": "Ja3xr4BJ8JaU"
      },
      "outputs": [],
      "source": [
        "from sklearn.tree import DecisionTreeClassifier\n",
        "dt_clf = DecisionTreeClassifier(criterion = 'entropy', random_state = 2,max_depth=5)\n",
        "dt_clf.fit(X_train_pca, y_train)\n",
        "y_pred_train = dt_clf.predict(X_train_pca)\n",
        "y_pred_test = dt_clf.predict(X_test_pca)"
      ]
    },
    {
      "cell_type": "code",
      "execution_count": null,
      "metadata": {
        "id": "Rh6T2pfS8JaU"
      },
      "outputs": [],
      "source": [
        "dtp_train_recall = recall_score(y_train, y_pred_train, average='weighted')\n",
        "dtp_test_recall = recall_score(y_test, y_pred_test, average='weighted')\n",
        "dtp_train_accuracy = accuracy_score(y_train, y_pred_train)\n",
        "dtp_test_accuracy = accuracy_score(y_test, y_pred_test)"
      ]
    },
    {
      "cell_type": "code",
      "execution_count": null,
      "metadata": {
        "id": "cGznOByL8JaV",
        "colab": {
          "base_uri": "https://localhost:8080/"
        },
        "outputId": "53dc0772-3a59-4cd3-930f-cfe5d5c1575d"
      },
      "outputs": [
        {
          "output_type": "stream",
          "name": "stdout",
          "text": [
            "Train Recall score: 0.7534626038781164\n",
            "Test Recall score: 0.6043956043956044\n"
          ]
        },
        {
          "output_type": "execute_result",
          "data": {
            "text/plain": [
              "array([[46,  4,  0,  0,  0,  0,  0,  0,  2,  0,  0],\n",
              "       [ 4,  4,  0,  0,  0,  0,  0,  0,  0,  0,  0],\n",
              "       [ 0,  0,  2,  0,  1,  0,  0,  0,  1,  0,  0],\n",
              "       [ 1,  0,  0,  0,  0,  0,  0,  0,  0,  0,  0],\n",
              "       [ 2,  0,  0,  0,  0,  0,  0,  0,  0,  0,  0],\n",
              "       [ 3,  0,  0,  0,  0,  0,  0,  0,  0,  0,  0],\n",
              "       [ 1,  0,  0,  0,  0,  0,  0,  0,  0,  0,  0],\n",
              "       [ 1,  0,  0,  0,  0,  0,  0,  1,  0,  0,  0],\n",
              "       [ 6,  2,  0,  0,  0,  0,  0,  0,  2,  0,  0],\n",
              "       [ 0,  2,  0,  0,  0,  0,  0,  0,  0,  0,  0],\n",
              "       [ 4,  1,  0,  0,  1,  0,  0,  0,  0,  0,  0]])"
            ]
          },
          "metadata": {},
          "execution_count": 78
        }
      ],
      "source": [
        "print('Train Recall score: {}'\n",
        "      .format(dtp_train_recall))\n",
        "print('Test Recall score: {}'\n",
        "      .format(dtp_test_recall))\n",
        "\n",
        "confusion_matrix(y_test, y_pred_test)"
      ]
    },
    {
      "cell_type": "code",
      "execution_count": null,
      "metadata": {
        "id": "DZDx0bpC8JaV",
        "colab": {
          "base_uri": "https://localhost:8080/",
          "height": 175
        },
        "outputId": "2a8ee41f-e3e9-4d46-efe7-c3fe9d84debe"
      },
      "outputs": [
        {
          "output_type": "execute_result",
          "data": {
            "text/plain": [
              "                     Model  Train Accuracy  Test Accuracy\n",
              "0                     KNN         0.648199       0.648352\n",
              "1           Decision Tree         0.789474       0.681319\n",
              "2           KNN dengan PCA        0.645429       0.648352\n",
              "3  DecisionTree dengan PCA        0.753463       0.604396"
            ],
            "text/html": [
              "\n",
              "  <div id=\"df-03a51df7-e0f0-4fe6-bbe2-59c02b830c4f\">\n",
              "    <div class=\"colab-df-container\">\n",
              "      <div>\n",
              "<style scoped>\n",
              "    .dataframe tbody tr th:only-of-type {\n",
              "        vertical-align: middle;\n",
              "    }\n",
              "\n",
              "    .dataframe tbody tr th {\n",
              "        vertical-align: top;\n",
              "    }\n",
              "\n",
              "    .dataframe thead th {\n",
              "        text-align: right;\n",
              "    }\n",
              "</style>\n",
              "<table border=\"1\" class=\"dataframe\">\n",
              "  <thead>\n",
              "    <tr style=\"text-align: right;\">\n",
              "      <th></th>\n",
              "      <th>Model</th>\n",
              "      <th>Train Accuracy</th>\n",
              "      <th>Test Accuracy</th>\n",
              "    </tr>\n",
              "  </thead>\n",
              "  <tbody>\n",
              "    <tr>\n",
              "      <th>0</th>\n",
              "      <td>KNN</td>\n",
              "      <td>0.648199</td>\n",
              "      <td>0.648352</td>\n",
              "    </tr>\n",
              "    <tr>\n",
              "      <th>1</th>\n",
              "      <td>Decision Tree</td>\n",
              "      <td>0.789474</td>\n",
              "      <td>0.681319</td>\n",
              "    </tr>\n",
              "    <tr>\n",
              "      <th>2</th>\n",
              "      <td>KNN dengan PCA</td>\n",
              "      <td>0.645429</td>\n",
              "      <td>0.648352</td>\n",
              "    </tr>\n",
              "    <tr>\n",
              "      <th>3</th>\n",
              "      <td>DecisionTree dengan PCA</td>\n",
              "      <td>0.753463</td>\n",
              "      <td>0.604396</td>\n",
              "    </tr>\n",
              "  </tbody>\n",
              "</table>\n",
              "</div>\n",
              "      <button class=\"colab-df-convert\" onclick=\"convertToInteractive('df-03a51df7-e0f0-4fe6-bbe2-59c02b830c4f')\"\n",
              "              title=\"Convert this dataframe to an interactive table.\"\n",
              "              style=\"display:none;\">\n",
              "        \n",
              "  <svg xmlns=\"http://www.w3.org/2000/svg\" height=\"24px\"viewBox=\"0 0 24 24\"\n",
              "       width=\"24px\">\n",
              "    <path d=\"M0 0h24v24H0V0z\" fill=\"none\"/>\n",
              "    <path d=\"M18.56 5.44l.94 2.06.94-2.06 2.06-.94-2.06-.94-.94-2.06-.94 2.06-2.06.94zm-11 1L8.5 8.5l.94-2.06 2.06-.94-2.06-.94L8.5 2.5l-.94 2.06-2.06.94zm10 10l.94 2.06.94-2.06 2.06-.94-2.06-.94-.94-2.06-.94 2.06-2.06.94z\"/><path d=\"M17.41 7.96l-1.37-1.37c-.4-.4-.92-.59-1.43-.59-.52 0-1.04.2-1.43.59L10.3 9.45l-7.72 7.72c-.78.78-.78 2.05 0 2.83L4 21.41c.39.39.9.59 1.41.59.51 0 1.02-.2 1.41-.59l7.78-7.78 2.81-2.81c.8-.78.8-2.07 0-2.86zM5.41 20L4 18.59l7.72-7.72 1.47 1.35L5.41 20z\"/>\n",
              "  </svg>\n",
              "      </button>\n",
              "      \n",
              "  <style>\n",
              "    .colab-df-container {\n",
              "      display:flex;\n",
              "      flex-wrap:wrap;\n",
              "      gap: 12px;\n",
              "    }\n",
              "\n",
              "    .colab-df-convert {\n",
              "      background-color: #E8F0FE;\n",
              "      border: none;\n",
              "      border-radius: 50%;\n",
              "      cursor: pointer;\n",
              "      display: none;\n",
              "      fill: #1967D2;\n",
              "      height: 32px;\n",
              "      padding: 0 0 0 0;\n",
              "      width: 32px;\n",
              "    }\n",
              "\n",
              "    .colab-df-convert:hover {\n",
              "      background-color: #E2EBFA;\n",
              "      box-shadow: 0px 1px 2px rgba(60, 64, 67, 0.3), 0px 1px 3px 1px rgba(60, 64, 67, 0.15);\n",
              "      fill: #174EA6;\n",
              "    }\n",
              "\n",
              "    [theme=dark] .colab-df-convert {\n",
              "      background-color: #3B4455;\n",
              "      fill: #D2E3FC;\n",
              "    }\n",
              "\n",
              "    [theme=dark] .colab-df-convert:hover {\n",
              "      background-color: #434B5C;\n",
              "      box-shadow: 0px 1px 3px 1px rgba(0, 0, 0, 0.15);\n",
              "      filter: drop-shadow(0px 1px 2px rgba(0, 0, 0, 0.3));\n",
              "      fill: #FFFFFF;\n",
              "    }\n",
              "  </style>\n",
              "\n",
              "      <script>\n",
              "        const buttonEl =\n",
              "          document.querySelector('#df-03a51df7-e0f0-4fe6-bbe2-59c02b830c4f button.colab-df-convert');\n",
              "        buttonEl.style.display =\n",
              "          google.colab.kernel.accessAllowed ? 'block' : 'none';\n",
              "\n",
              "        async function convertToInteractive(key) {\n",
              "          const element = document.querySelector('#df-03a51df7-e0f0-4fe6-bbe2-59c02b830c4f');\n",
              "          const dataTable =\n",
              "            await google.colab.kernel.invokeFunction('convertToInteractive',\n",
              "                                                     [key], {});\n",
              "          if (!dataTable) return;\n",
              "\n",
              "          const docLinkHtml = 'Like what you see? Visit the ' +\n",
              "            '<a target=\"_blank\" href=https://colab.research.google.com/notebooks/data_table.ipynb>data table notebook</a>'\n",
              "            + ' to learn more about interactive tables.';\n",
              "          element.innerHTML = '';\n",
              "          dataTable['output_type'] = 'display_data';\n",
              "          await google.colab.output.renderOutput(dataTable, element);\n",
              "          const docLink = document.createElement('div');\n",
              "          docLink.innerHTML = docLinkHtml;\n",
              "          element.appendChild(docLink);\n",
              "        }\n",
              "      </script>\n",
              "    </div>\n",
              "  </div>\n",
              "  "
            ]
          },
          "metadata": {},
          "execution_count": 79
        }
      ],
      "source": [
        "result = result.append(pd.Series({'Model':'DecisionTree dengan PCA','Train Accuracy':dtp_train_accuracy,'Test Accuracy':dtp_test_accuracy}),ignore_index=True )\n",
        "result"
      ]
    },
    {
      "cell_type": "markdown",
      "metadata": {
        "id": "J0NImGqA8JaW"
      },
      "source": [
        "---\n",
        "---"
      ]
    },
    {
      "cell_type": "markdown",
      "metadata": {
        "id": "LhmxfiIn8JaW"
      },
      "source": [
        "# Result"
      ]
    },
    {
      "cell_type": "code",
      "execution_count": null,
      "metadata": {
        "id": "jqPHSNsABChs",
        "colab": {
          "base_uri": "https://localhost:8080/",
          "height": 499
        },
        "outputId": "e300a288-8583-4aa7-9aa5-ef2f16956a49"
      },
      "outputs": [
        {
          "output_type": "display_data",
          "data": {
            "text/plain": [
              "<Figure size 2000x500 with 1 Axes>"
            ],
            "image/png": "[encoded data removed]"
          },
          "metadata": {}
        }
      ],
      "source": [
        "ax=result.plot(kind=\"bar\",figsize=(20,5), color=['lightblue', 'lightgreen'])\n",
        "ax.set_xticks(result.index)\n",
        "ax.set_xticklabels(result.Model,rotation=90)\n",
        "plt.title('Train & Test Scores of Classifiers')\n",
        "plt.xlabel('Models')\n",
        "plt.ylabel('Accuracy Scores')\n",
        "plt.legend(loc=4 , bbox_to_anchor=(1.2, 0))\n",
        "plt.show();"
      ]
    },
    {
      "cell_type": "markdown",
      "metadata": {
        "id": "Fx_dFjHz8JaW"
      },
      "source": [
        "## Kesimpulan\n",
        "\n",
        "Model terbaik dalam hal skor recall adalah **Decision Tree Classifier** dengan akurasi sebesar **68,13%.**"
      ]
    }
  ],
  "metadata": {
    "colab": {
      "provenance": [],
      "toc_visible": true
    },
    "kernelspec": {
      "display_name": "Python 3",
      "language": "python",
      "name": "python3"
    },
    "language_info": {
      "codemirror_mode": {
        "name": "ipython",
        "version": 3
      },
      "file_extension": ".py",
      "mimetype": "text/x-python",
      "name": "python",
      "nbconvert_exporter": "python",
      "pygments_lexer": "ipython3",
      "version": "3.7.6"
    }
  },
  "nbformat": 4,
  "nbformat_minor": 0
}